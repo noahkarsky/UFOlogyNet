{
 "cells": [
  {
   "cell_type": "code",
   "execution_count": 1,
   "metadata": {},
   "outputs": [],
   "source": [
    "\n",
    "import pandas as pd\n",
    "#make pandas print more of the content of a dataframe\n",
    "pd.set_option('display.max_colwidth', None)"
   ]
  },
  {
   "cell_type": "code",
   "execution_count": 2,
   "metadata": {},
   "outputs": [],
   "source": [
    "#save a new csv\n",
    "df = pd.read_csv(r\"..\\data\\graph_data_final.csv\")\n",
    "# df has head,type,tail  lets make this into a list of tuples\n",
    "input_data = df.values.tolist()\n",
    "\n",
    "import ast\n",
    "import matplotlib.pyplot as plt\n",
    "%matplotlib inline\n",
    "from pyvis.network import Network\n",
    "\n",
    "\n",
    "# Create the graph\n",
    "def create_graph(data):\n",
    "    nt = Network(notebook=False,directed=True)\n",
    "    for head, relation, tail in data:\n",
    "        nt.add_node(head)\n",
    "        nt.add_node(tail)\n",
    "        nt.add_edge(head, tail, title=relation)\n",
    "    return nt\n",
    "\n",
    "\n",
    "graph = create_graph(input_data)\n",
    "from IPython.display import IFrame\n",
    "graph.save_graph(\"anon_pdf_timeline_graph.html\")\n",
    "\n",
    "# import IPython\n",
    "# IPython.display.HTML(filename='graph.html')"
   ]
  }
 ],
 "metadata": {
  "kernelspec": {
   "display_name": "langchain_env",
   "language": "python",
   "name": "python3"
  },
  "language_info": {
   "codemirror_mode": {
    "name": "ipython",
    "version": 3
   },
   "file_extension": ".py",
   "mimetype": "text/x-python",
   "name": "python",
   "nbconvert_exporter": "python",
   "pygments_lexer": "ipython3",
   "version": "3.10.4"
  },
  "orig_nbformat": 4
 },
 "nbformat": 4,
 "nbformat_minor": 2
}
