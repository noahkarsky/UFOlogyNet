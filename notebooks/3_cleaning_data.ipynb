{
 "cells": [
  {
   "cell_type": "code",
   "execution_count": null,
   "metadata": {},
   "outputs": [],
   "source": [
    "import pandas as pd\n",
    "#make pandas print more of the content of a dataframe\n",
    "pd.set_option('display.max_colwidth', None)"
   ]
  },
  {
   "cell_type": "code",
   "execution_count": null,
   "metadata": {},
   "outputs": [],
   "source": [
    "#save a new csv\n",
    "df = pd.read_csv(r\"..\\data\\entities.csv\")"
   ]
  },
  {
   "cell_type": "code",
   "execution_count": null,
   "metadata": {},
   "outputs": [],
   "source": [
    "#first turn all triplets into a list, currently they  are a string of a list\n",
    "df['triplets'] = df['triplets'].apply(lambda x: eval(x))\n",
    "triplets_list = df.triplets.to_list()\n",
    "#flatten the list of lists\n",
    "triplets_list = [item for sublist in triplets_list for item in sublist]\n",
    "def standardize_entry(entry):\n",
    "    if isinstance(entry, dict):\n",
    "        return (entry['head'], entry['type'], entry['tail'])\n",
    "    elif isinstance(entry, tuple) and len(entry) == 3:\n",
    "        return entry\n",
    "    else:\n",
    "        raise ValueError(f\"Unexpected entry format: {entry}\")\n",
    "\n",
    "\n",
    "# Now, reprocess your data. As the function may return lists of lists now, we need to flatten it\n",
    "standardized_data = list(map(standardize_entry,triplets_list))\n",
    "df = pd.DataFrame(standardized_data, columns=['head', 'type', 'tail'])\n",
    "\n",
    "df = df.drop_duplicates()\n"
   ]
  },
  {
   "cell_type": "code",
   "execution_count": null,
   "metadata": {},
   "outputs": [],
   "source": [
    "#lets now do some normalization of the data\n",
    "import re\n",
    "def normalize_text(text):\n",
    "    text = text.lower() # lowercase text\n",
    "    text = re.sub(r'\\s+', '_', text) # replace all whitespace with underscores\n",
    "    text = re.sub(r'[^a-zA-Z0-9_]', '', text) #remove all non alphanumeric characters\n",
    "    text = re.sub(r'[.,!@#$%^&*(){}<>?:;\\[\\]-]', '', text) #remove all punctuation\n",
    "    return text\n",
    "\n",
    "for column in df.columns:\n",
    "    df[column] = df[column].apply(normalize_text)"
   ]
  },
  {
   "cell_type": "code",
   "execution_count": null,
   "metadata": {},
   "outputs": [],
   "source": [
    "#save to csv\n",
    "df.to_csv(r\"D:\\repos\\project_amanita\\amanita_export_working_area\\anon_pdf\\graph_data_final.csv\", index=False)"
   ]
  }
 ],
 "metadata": {
  "kernelspec": {
   "display_name": "langchain_env",
   "language": "python",
   "name": "python3"
  },
  "language_info": {
   "codemirror_mode": {
    "name": "ipython",
    "version": 3
   },
   "file_extension": ".py",
   "mimetype": "text/x-python",
   "name": "python",
   "nbconvert_exporter": "python",
   "pygments_lexer": "ipython3",
   "version": "3.10.4"
  },
  "orig_nbformat": 4
 },
 "nbformat": 4,
 "nbformat_minor": 2
}
