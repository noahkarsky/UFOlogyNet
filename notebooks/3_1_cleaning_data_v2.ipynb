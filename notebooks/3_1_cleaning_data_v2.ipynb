{
 "cells": [
  {
   "cell_type": "code",
   "execution_count": 1,
   "metadata": {},
   "outputs": [
    {
     "name": "stderr",
     "output_type": "stream",
     "text": [
      "c:\\Users\\noahk\\anaconda3\\envs\\langchain_env\\Lib\\site-packages\\umap\\distances.py:1063: NumbaDeprecationWarning: \u001b[1mThe 'nopython' keyword argument was not supplied to the 'numba.jit' decorator. The implicit default value for this argument is currently False, but it will be changed to True in Numba 0.59.0. See https://numba.readthedocs.io/en/stable/reference/deprecation.html#deprecation-of-object-mode-fall-back-behaviour-when-using-jit for details.\u001b[0m\n",
      "  @numba.jit()\n",
      "c:\\Users\\noahk\\anaconda3\\envs\\langchain_env\\Lib\\site-packages\\umap\\distances.py:1071: NumbaDeprecationWarning: \u001b[1mThe 'nopython' keyword argument was not supplied to the 'numba.jit' decorator. The implicit default value for this argument is currently False, but it will be changed to True in Numba 0.59.0. See https://numba.readthedocs.io/en/stable/reference/deprecation.html#deprecation-of-object-mode-fall-back-behaviour-when-using-jit for details.\u001b[0m\n",
      "  @numba.jit()\n",
      "c:\\Users\\noahk\\anaconda3\\envs\\langchain_env\\Lib\\site-packages\\umap\\distances.py:1086: NumbaDeprecationWarning: \u001b[1mThe 'nopython' keyword argument was not supplied to the 'numba.jit' decorator. The implicit default value for this argument is currently False, but it will be changed to True in Numba 0.59.0. See https://numba.readthedocs.io/en/stable/reference/deprecation.html#deprecation-of-object-mode-fall-back-behaviour-when-using-jit for details.\u001b[0m\n",
      "  @numba.jit()\n",
      "c:\\Users\\noahk\\anaconda3\\envs\\langchain_env\\Lib\\site-packages\\tqdm\\auto.py:21: TqdmWarning: IProgress not found. Please update jupyter and ipywidgets. See https://ipywidgets.readthedocs.io/en/stable/user_install.html\n",
      "  from .autonotebook import tqdm as notebook_tqdm\n",
      "c:\\Users\\noahk\\anaconda3\\envs\\langchain_env\\Lib\\site-packages\\umap\\umap_.py:660: NumbaDeprecationWarning: \u001b[1mThe 'nopython' keyword argument was not supplied to the 'numba.jit' decorator. The implicit default value for this argument is currently False, but it will be changed to True in Numba 0.59.0. See https://numba.readthedocs.io/en/stable/reference/deprecation.html#deprecation-of-object-mode-fall-back-behaviour-when-using-jit for details.\u001b[0m\n",
      "  @numba.jit()\n",
      "c:\\Users\\noahk\\anaconda3\\envs\\langchain_env\\Lib\\site-packages\\umap\\plot.py:203: NumbaDeprecationWarning: \u001b[1mThe 'nopython' keyword argument was not supplied to the 'numba.jit' decorator. The implicit default value for this argument is currently False, but it will be changed to True in Numba 0.59.0. See https://numba.readthedocs.io/en/stable/reference/deprecation.html#deprecation-of-object-mode-fall-back-behaviour-when-using-jit for details.\u001b[0m\n",
      "  @numba.jit()\n"
     ]
    },
    {
     "data": {
      "text/plain": [
       "True"
      ]
     },
     "execution_count": 1,
     "metadata": {},
     "output_type": "execute_result"
    }
   ],
   "source": [
    "import pandas as pd\n",
    "##Import packages\n",
    "import openai\n",
    "import pandas as pd\n",
    "import re\n",
    "import contextlib\n",
    "import io\n",
    "import tiktoken\n",
    "from openai.embeddings_utils import get_embedding\n",
    "from sklearn.cluster import KMeans\n",
    "from sklearn.manifold import TSNE\n",
    "import numpy as np\n",
    "import plotly.express as px\n",
    "import umap\n",
    "import umap.plot\n",
    "from umap import UMAP\n",
    "import hdbscan\n",
    "\n",
    "\n",
    "#load in the .env entries as environment varaiables\n",
    "from dotenv import load_dotenv\n",
    "load_dotenv()\n"
   ]
  },
  {
   "cell_type": "code",
   "execution_count": 2,
   "metadata": {},
   "outputs": [],
   "source": [
    "file_path = r'..\\data\\graph_data_final.csv'\n",
    "#save a new csv\n",
    "df = pd.read_csv(file_path)"
   ]
  },
  {
   "cell_type": "code",
   "execution_count": 3,
   "metadata": {},
   "outputs": [
    {
     "data": {
      "text/html": [
       "<div>\n",
       "<style scoped>\n",
       "    .dataframe tbody tr th:only-of-type {\n",
       "        vertical-align: middle;\n",
       "    }\n",
       "\n",
       "    .dataframe tbody tr th {\n",
       "        vertical-align: top;\n",
       "    }\n",
       "\n",
       "    .dataframe thead th {\n",
       "        text-align: right;\n",
       "    }\n",
       "</style>\n",
       "<table border=\"1\" class=\"dataframe\">\n",
       "  <thead>\n",
       "    <tr style=\"text-align: right;\">\n",
       "      <th></th>\n",
       "      <th>head</th>\n",
       "      <th>type</th>\n",
       "      <th>tail</th>\n",
       "    </tr>\n",
       "  </thead>\n",
       "  <tbody>\n",
       "    <tr>\n",
       "      <th>count</th>\n",
       "      <td>773</td>\n",
       "      <td>773</td>\n",
       "      <td>773</td>\n",
       "    </tr>\n",
       "    <tr>\n",
       "      <th>unique</th>\n",
       "      <td>604</td>\n",
       "      <td>87</td>\n",
       "      <td>493</td>\n",
       "    </tr>\n",
       "    <tr>\n",
       "      <th>top</th>\n",
       "      <td>hal_puthoff</td>\n",
       "      <td>employer</td>\n",
       "      <td>usaf</td>\n",
       "    </tr>\n",
       "    <tr>\n",
       "      <th>freq</th>\n",
       "      <td>12</td>\n",
       "      <td>106</td>\n",
       "      <td>27</td>\n",
       "    </tr>\n",
       "  </tbody>\n",
       "</table>\n",
       "</div>"
      ],
      "text/plain": [
       "               head      type  tail\n",
       "count           773       773   773\n",
       "unique          604        87   493\n",
       "top     hal_puthoff  employer  usaf\n",
       "freq             12       106    27"
      ]
     },
     "execution_count": 3,
     "metadata": {},
     "output_type": "execute_result"
    }
   ],
   "source": [
    "df.describe()"
   ]
  },
  {
   "attachments": {},
   "cell_type": "markdown",
   "metadata": {},
   "source": [
    "So we have 87 different \"types\" which we are wishing to make our relationships. Lets try to do some clustering to find things that are similar"
   ]
  },
  {
   "cell_type": "code",
   "execution_count": 4,
   "metadata": {},
   "outputs": [
    {
     "name": "stdout",
     "output_type": "stream",
     "text": [
      "there are 874 nodes and 87 edges\n"
     ]
    }
   ],
   "source": [
    "#first lets collect unique lists of what will represent our nodes and edges\n",
    "#nodes are a list of all the unique values of head and tail\n",
    "nodes = pd.concat([df['head'], df['tail']]).unique()\n",
    "#edges are all the type values\n",
    "edges = df['type'].unique()\n",
    "print(f\"there are {len(nodes)} nodes and {len(edges)} edges\")\n",
    "\n"
   ]
  },
  {
   "attachments": {},
   "cell_type": "markdown",
   "metadata": {},
   "source": [
    "I want to do some clustering on the nodes and edges. each of these are a list of unique string values,so I am thinking we can use OpenAI embeddings endpoint to compute embeddings and then we can do some dimension reduction and clustering to see if we can group up similar nodes and edges. I also have an idea of our goal categories we will place these into"
   ]
  },
  {
   "cell_type": "code",
   "execution_count": null,
   "metadata": {},
   "outputs": [],
   "source": [
    "\n",
    "##Set parameters\n",
    "embedding_model = \"text-embedding-ada-002\"\n",
    "embedding_encoding = \"cl100k_base\"  # this the encoding for text-embedding-ada-002\n",
    "max_tokens = 8000  # the maximum for text-embedding-ada-002 is 8191\n",
    "top_n = 1000\n",
    "encoding = tiktoken.get_encoding(embedding_encoding)\n",
    "col_embedding = 'embedding'\n",
    "n_tsne=2\n",
    "n_iter = 1000"
   ]
  },
  {
   "cell_type": "code",
   "execution_count": null,
   "metadata": {},
   "outputs": [],
   "source": [
    "##Gets the embedding from OpenAI\n",
    "def get_embedding(text, model):\n",
    "  openai.api_key = os.environ[\"OPENAI_API_KEY\"]\n",
    "  text = text.replace(\"\\n\", \" \")\n",
    "  return openai.Embedding.create(input = [text], model=model)['data'][0]['embedding']\n"
   ]
  },
  {
   "cell_type": "code",
   "execution_count": null,
   "metadata": {},
   "outputs": [],
   "source": [
    "#lets make nodes and edges into a dataframe\n",
    "nodes_df = pd.DataFrame(nodes, columns=['node'])\n",
    "edges_df = pd.DataFrame(edges, columns=['edge'])\n",
    "#lets remove the _ from the node and edge names\n",
    "nodes_df['node'] = nodes_df['node'].apply(lambda x: x.replace('_', ' '))\n",
    "edges_df['edge'] = edges_df['edge'].apply(lambda x: x.replace('_', ' '))\n",
    "\n",
    "nodes_df['n_tokens'] = nodes_df['node'].apply(lambda x: len(encoding.encode(x)))\n",
    "edges_df['n_tokens'] = edges_df['edge'].apply(lambda x: len(encoding.encode(x)))\n",
    "\n",
    "\n",
    "\n",
    "print(f\"Total number of tokens for nodes: {nodes_df['n_tokens'].sum()}\")\n",
    "print(f\"Total number of tokens for edges: {edges_df['n_tokens'].sum()}\")\n",
    "\n",
    "\n",
    "nodes_df[col_embedding] = nodes_df['node'].apply(lambda x: get_embedding(x, model='text-embedding-ada-002'))\n",
    "edges_df[col_embedding] = edges_df['edge'].apply(lambda x: get_embedding(x, model='text-embedding-ada-002'))"
   ]
  },
  {
   "attachments": {},
   "cell_type": "markdown",
   "metadata": {},
   "source": [
    "-------------------------"
   ]
  },
  {
   "cell_type": "code",
   "execution_count": 26,
   "metadata": {},
   "outputs": [],
   "source": [
    "# #lets write all these to file for later use\n",
    "# nodes_df.to_csv(r'..\\data\\nodes.csv', index=False)\n",
    "# edges_df.to_csv(r'..\\data\\edges.csv', index=False)\n",
    "\n",
    "nodes_df = pd.read_csv(r'..\\data\\nodes.csv')\n",
    "edges_df = pd.read_csv(r'..\\data\\edges.csv')\n",
    "\n",
    "\n",
    "#make sure the col_embeddings are of the correct type\n",
    "nodes_df['embedding'] = nodes_df.apply(lambda x: np.array(eval(x['embedding'])), axis=1)\n",
    "edges_df['embedding'] = edges_df.apply(lambda x: np.array(eval(x['embedding'])), axis=1)"
   ]
  },
  {
   "cell_type": "code",
   "execution_count": 27,
   "metadata": {},
   "outputs": [],
   "source": [
    "node_matrix = np.array(nodes_df['embedding'].tolist())\n",
    "edge_matrix = np.array(edges_df['embedding'].tolist())"
   ]
  },
  {
   "cell_type": "code",
   "execution_count": 28,
   "metadata": {},
   "outputs": [
    {
     "name": "stdout",
     "output_type": "stream",
     "text": [
      "(874, 2)\n"
     ]
    }
   ],
   "source": [
    "####UMAP\n",
    "umap_inputs = {'n_neighbors': 6,\n",
    "               'min_dist': 0.1,\n",
    "               'n_components': 2,\n",
    "               'metric': 'euclidean',\n",
    "               'target_metric': 'categorical'}\n",
    "reducer = umap.UMAP( **umap_inputs)\n",
    "reducer.fit(node_matrix)\n",
    "#bring it back into the dataframe\n",
    "embedding = reducer.transform(node_matrix)\n",
    "print(embedding.shape)\n",
    "#plot the results, first add the x,y to the dataframe\n",
    "nodes_df['x'] = embedding[:,0]\n",
    "nodes_df['y'] = embedding[:,1]"
   ]
  },
  {
   "cell_type": "code",
   "execution_count": 29,
   "metadata": {},
   "outputs": [
    {
     "data": {
      "image/png": "[encoded data removed]",
      "text/plain": [
       "<Figure size 640x480 with 1 Axes>"
      ]
     },
     "metadata": {},
     "output_type": "display_data"
    }
   ],
   "source": [
    "\n",
    "import matplotlib.pyplot as plt\n",
    "plt.scatter(embedding[:, 0], embedding[:, 1], s=5)\n",
    "plt.gca().set_aspect('equal', 'datalim')\n",
    "plt.title('UMAP projection of the node embeddings', fontsize=24);"
   ]
  },
  {
   "attachments": {},
   "cell_type": "markdown",
   "metadata": {},
   "source": [
    "What does this image show us? It is simply showing us a 2D rendering of the high dimensional embeddings that we made on all the nodes. We see that there are definately some distinct clusters coming through, we do not really know how dense these are, but there are a good amount of noise outside of the clusters. This is not too surprising since the embeddings were made on only a few words."
   ]
  },
  {
   "cell_type": "code",
   "execution_count": 30,
   "metadata": {},
   "outputs": [
    {
     "data": {
      "application/vnd.plotly.v1+json": {
       "config": {
        "plotlyServerURL": "https://plot.ly"
       },
       "data": [
        {
         "customdata": [
          [
           "roswell army air field"
          ],
          [
           "us"
          ],
          [
           "ernst steinhoff"
          ],
          [
           "renaissance technologies llc"
          ],
          [
           "roswell nm"
          ],
          [
           "raymond concrete pile company"
          ],
          [
           "president"
          ],
          [
           "calberkeley"
          ],
          [
           "egg"
          ],
          [
           "dick damato"
          ],
          [
           "san antonio tx"
          ],
          [
           "warton plant"
          ],
          [
           "bae systems"
          ],
          [
           "darpa"
          ],
          [
           "naval research laboratory"
          ],
          [
           "teller"
          ],
          [
           "gao"
          ],
          [
           "merint"
          ],
          [
           "nro"
          ],
          [
           "aaro"
          ],
          [
           "lue eilzondo"
          ],
          [
           "aaf"
          ],
          [
           "edward lansdale"
          ],
          [
           "john ramirez"
          ],
          [
           "flight deck"
          ],
          [
           "masint"
          ],
          [
           "jim semivan"
          ],
          [
           "franc milburn"
          ],
          [
           "bradshaw ranch"
          ],
          [
           "nevada testing range"
          ],
          [
           "grant cameron"
          ],
          [
           "b2"
          ],
          [
           "skinwalker ranch"
          ],
          [
           "brandon fugal"
          ],
          [
           "human sacrifice"
          ],
          [
           "tesre"
          ],
          [
           "ross coulthart"
          ],
          [
           "atp group"
          ],
          [
           "crash of an experimental aircraft in 1983"
          ],
          [
           "sri international"
          ],
          [
           "sac"
          ],
          [
           "elint"
          ],
          [
           "satanic ritual"
          ],
          [
           "minuteman icbm"
          ],
          [
           "romeo flight"
          ],
          [
           "kit green"
          ],
          [
           "uri geller"
          ],
          [
           "giscard destaing"
          ],
          [
           "curtis lemay"
          ],
          [
           "pascagoula river"
          ],
          [
           "howell mcconnell"
          ],
          [
           "usaf research laboratory"
          ],
          [
           "sbi"
          ],
          [
           "oil companies"
          ],
          [
           "multiple independentlytargeted reentry vehicle"
          ],
          [
           "geiger counter"
          ],
          [
           "norad"
          ],
          [
           "hangar 18"
          ],
          [
           "franklin mead"
          ],
          [
           "alamogordo nm"
          ],
          [
           "pathfinder partners"
          ],
          [
           "general accounting office"
          ],
          [
           "pratt  whitney"
          ],
          [
           "mitre corporation"
          ],
          [
           "b2 spirit"
          ],
          [
           "indian point nuclear plant"
          ],
          [
           "research and development board"
          ],
          [
           "us army"
          ],
          [
           "skip atwater"
          ],
          [
           "ballistic missile"
          ],
          [
           "sd"
          ],
          [
           "gray aafrobert gray field"
          ],
          [
           "avocent"
          ],
          [
           "leonard stringfield"
          ],
          [
           "will miller"
          ],
          [
           "tenneco"
          ],
          [
           "marathon"
          ],
          [
           "chuck reever"
          ],
          [
           "harry reid"
          ],
          [
           "obama administration"
          ],
          [
           "defense intelligence agency"
          ],
          [
           "public deception"
          ],
          [
           "jerry simons"
          ],
          [
           "paul czysz"
          ],
          [
           "phyllis green"
          ],
          [
           "sara"
          ],
          [
           "boeing"
          ],
          [
           "saic"
          ],
          [
           "africom"
          ],
          [
           "synthetic quantum environment"
          ],
          [
           "st clair triangle incident"
          ],
          [
           "phoenix lights incident"
          ],
          [
           "mitre corp"
          ],
          [
           "3d reality"
          ],
          [
           "darpa pe 0603286e"
          ],
          [
           "general exon"
          ],
          [
           "trw"
          ],
          [
           "journalist"
          ],
          [
           "laurance rockefeller"
          ],
          [
           "charles bowsher"
          ],
          [
           "bill cooper"
          ],
          [
           "chincarini"
          ],
          [
           "goddard"
          ],
          [
           "gary mckinnon"
          ],
          [
           "nevada test site"
          ],
          [
           "narcap"
          ],
          [
           "grasp"
          ],
          [
           "hypertech concepts"
          ],
          [
           "arc seibersdorf"
          ],
          [
           "south polaris"
          ],
          [
           "roswell"
          ],
          [
           "dan burisch"
          ],
          [
           "chase brandon"
          ],
          [
           "tim cooper"
          ],
          [
           "cseti"
          ],
          [
           "curtis lemay center for doctrine development and education"
          ],
          [
           "hillary clinton campaign manager"
          ],
          [
           "public domain"
          ],
          [
           "ppd"
          ],
          [
           "area 29"
          ],
          [
           "garry nolan"
          ],
          [
           "gondola wish"
          ],
          [
           "lue elizondo"
          ],
          [
           "bill clinton"
          ],
          [
           "john petersen"
          ],
          [
           "earthtech"
          ],
          [
           "crash site"
          ],
          [
           "james iandoli"
          ],
          [
           "eugene podkletnov"
          ],
          [
           "susan gough"
          ],
          [
           "daniel goldin"
          ],
          [
           "michael smith"
          ],
          [
           "transdimensional systems"
          ],
          [
           "sentry eagle"
          ],
          [
           "sixth sense"
          ],
          [
           "new mexico"
          ],
          [
           "intuitive decision making"
          ],
          [
           "xp80"
          ],
          [
           "microwave"
          ],
          [
           "harry howard"
          ],
          [
           "timir datta"
          ],
          [
           "aileaton"
          ],
          [
           "hillary clinton campaign"
          ],
          [
           "antigravity news and space drive technology"
          ],
          [
           "tom delonge"
          ],
          [
           "marshall space flight center"
          ],
          [
           "lewis field"
          ],
          [
           "glenn research center"
          ],
          [
           "boyd bushman"
          ],
          [
           "sekret machines"
          ],
          [
           "nevada national security site"
          ],
          [
           "preston nichols"
          ],
          [
           "hughes"
          ],
          [
           "uk"
          ],
          [
           "ansel e talbert"
          ],
          [
           "foreign technology division"
          ],
          [
           "kataghan province"
          ],
          [
           "rockefellers"
          ],
          [
           "kabul"
          ],
          [
           "morris k jessup"
          ],
          [
           "uss engstrom"
          ],
          [
           "office of information"
          ],
          [
           "blue book special report no 14"
          ],
          [
           "louis witten"
          ],
          [
           "white house army signaling agency"
          ],
          [
           "pantex plant"
          ],
          [
           "zero point energy"
          ],
          [
           "hypnosis"
          ],
          [
           "uss franklin d roosevelt"
          ],
          [
           "disinformation"
          ],
          [
           "sheriff"
          ],
          [
           "lwoff"
          ],
          [
           "monod"
          ],
          [
           "millionaire"
          ],
          [
           "sri"
          ],
          [
           "phillip j corso"
          ],
          [
           "polaroid camera"
          ],
          [
           "arthur sylvester"
          ],
          [
           "atlas site 9"
          ],
          [
           "top secret"
          ],
          [
           "atlas"
          ],
          [
           "time travel"
          ],
          [
           "martinmarietta"
          ],
          [
           "roswell morning dispatch"
          ],
          [
           "intelligence"
          ],
          [
           "roscoe hillenkoetter"
          ],
          [
           "aaf commanding"
          ],
          [
           "hypothesis"
          ],
          [
           "sapco"
          ],
          [
           "sapoc"
          ],
          [
           "nuclear test"
          ],
          [
           "laredo"
          ],
          [
           "earthtech international"
          ],
          [
           "amc"
          ],
          [
           "nasa"
          ],
          [
           "joseph bryan iii"
          ],
          [
           "cliff booth"
          ],
          [
           "private corporation"
          ],
          [
           "clinton campaign manager"
          ],
          [
           "defense finance and accounting service"
          ],
          [
           "desert research experimental station"
          ],
          [
           "brooke general hospital"
          ],
          [
           "philip grandin strong"
          ],
          [
           "hayden channing"
          ],
          [
           "operation upshotknothole"
          ],
          [
           "roswell air force base"
          ],
          [
           "naval aviator"
          ],
          [
           "avrocar"
          ],
          [
           "aegis"
          ],
          [
           "martin marietta"
          ],
          [
           "howard cross"
          ],
          [
           "rex heflin"
          ],
          [
           "hector quintanilla"
          ],
          [
           "project blue book"
          ],
          [
           "area 51"
          ],
          [
           "alpha red"
          ],
          [
           "wright field"
          ],
          [
           "nasa administrator"
          ],
          [
           "optical deception"
          ],
          [
           "hugh l dryden"
          ],
          [
           "assistant to the president for science and technology"
          ],
          [
           "sac kansas city"
          ]
         ],
         "hovertemplate": "cluster=-1<br>x=%{x}<br>y=%{y}<br>node=%{customdata[0]}<extra></extra>",
         "legendgroup": "-1",
         "marker": {
          "color": "#636efa",
          "symbol": "circle"
         },
         "mode": "markers",
         "name": "-1",
         "orientation": "v",
         "showlegend": true,
         "type": "scatter",
         "x": [
          14.254712104797363,
          10.402610778808594,
          10.1669921875,
          12.475937843322754,
          14.372658729553223,
          10.108530044555664,
          11.660393714904785,
          13.673460960388184,
          9.936918258666992,
          10.58018970489502,
          13.578526496887207,
          9.846717834472656,
          12.671187400817871,
          10.092658996582031,
          12.095934867858887,
          10.777841567993164,
          9.438236236572266,
          11.112794876098633,
          10.746898651123047,
          10.650832176208496,
          12.847040176391602,
          8.871925354003906,
          10.783679962158203,
          12.238308906555176,
          12.10097885131836,
          11.09999942779541,
          12.355193138122559,
          11.772183418273926,
          10.999380111694336,
          12.187874794006348,
          11.063399314880371,
          9.152876853942871,
          11.060347557067871,
          11.107278823852539,
          8.895048141479492,
          11.004645347595215,
          11.745292663574219,
          9.430916786193848,
          8.667024612426758,
          11.447538375854492,
          11.06661605834961,
          10.880719184875488,
          8.993730545043945,
          11.384642601013184,
          12.332001686096191,
          11.778261184692383,
          10.308417320251465,
          10.995325088500977,
          12.710074424743652,
          12.731982231140137,
          11.511584281921387,
          11.968976020812988,
          11.449467658996582,
          13.02124309539795,
          11.148245811462402,
          9.780892372131348,
          12.499320983886719,
          10.429659843444824,
          11.796311378479004,
          15.015812873840332,
          11.711437225341797,
          10.818650245666504,
          11.227152824401855,
          12.369186401367188,
          9.131850242614746,
          11.91446590423584,
          12.228970527648926,
          10.236634254455566,
          10.039521217346191,
          11.33399486541748,
          10.296573638916016,
          8.703190803527832,
          10.714288711547852,
          9.70650863647461,
          10.87898063659668,
          10.96093463897705,
          11.674643516540527,
          9.941946983337402,
          12.56982135772705,
          11.08269214630127,
          10.041507720947266,
          9.1591215133667,
          12.406623840332031,
          11.444639205932617,
          11.746715545654297,
          11.571213722229004,
          12.671826362609863,
          11.095087051391602,
          12.040999412536621,
          9.757254600524902,
          8.24677562713623,
          8.3090181350708,
          12.349514961242676,
          9.221750259399414,
          9.91563892364502,
          9.486276626586914,
          11.014939308166504,
          9.503030776977539,
          13.167234420776367,
          10.522830963134766,
          10.511652946472168,
          12.048806190490723,
          11.10201644897461,
          11.291146278381348,
          12.20622444152832,
          10.734785079956055,
          9.63733959197998,
          10.87559700012207,
          12.026058197021484,
          9.940309524536133,
          14.26810073852539,
          11.222565650939941,
          10.900432586669922,
          11.240752220153809,
          10.96871566772461,
          12.797099113464355,
          10.576993942260742,
          10.23304271697998,
          10.302810668945312,
          9.220244407653809,
          10.748128890991211,
          11.036507606506348,
          12.928640365600586,
          10.597198486328125,
          11.383045196533203,
          11.020281791687012,
          8.502142906188965,
          12.06446647644043,
          10.02450942993164,
          10.926591873168945,
          10.9472074508667,
          11.07791519165039,
          9.631196975708008,
          10.178619384765625,
          9.236884117126465,
          14.850724220275879,
          9.205581665039062,
          9.605527877807617,
          9.989255905151367,
          12.578740119934082,
          11.391766548156738,
          9.6316499710083,
          10.581252098083496,
          10.795012474060059,
          12.802461624145508,
          11.704751968383789,
          9.692793846130371,
          12.271269798278809,
          10.529412269592285,
          9.894576072692871,
          12.102920532226562,
          11.321492195129395,
          10.666626930236816,
          10.434627532958984,
          10.492440223693848,
          10.986981391906738,
          13.37247085571289,
          13.085996627807617,
          12.304242134094238,
          12.588935852050781,
          9.746753692626953,
          11.47793197631836,
          11.51082706451416,
          10.105847358703613,
          10.390951156616211,
          11.87130355834961,
          9.829241752624512,
          8.945561408996582,
          11.939101219177246,
          9.3663969039917,
          11.002208709716797,
          10.088433265686035,
          11.694911003112793,
          11.611685752868652,
          11.450582504272461,
          11.786280632019043,
          9.894084930419922,
          11.353288650512695,
          9.23838996887207,
          9.810395240783691,
          9.664520263671875,
          9.252036094665527,
          12.32589054107666,
          14.303460121154785,
          9.501569747924805,
          9.714345932006836,
          8.707462310791016,
          8.905155181884766,
          11.06136417388916,
          11.05222225189209,
          11.967428207397461,
          13.150556564331055,
          11.10618782043457,
          11.86119556427002,
          11.065893173217773,
          11.94036865234375,
          10.288100242614746,
          12.398926734924316,
          10.60173511505127,
          10.403505325317383,
          12.089001655578613,
          11.174174308776855,
          11.718021392822266,
          10.492546081542969,
          10.275765419006348,
          14.245125770568848,
          12.623188018798828,
          10.70343017578125,
          9.821148872375488,
          12.440494537353516,
          12.365015983581543,
          9.741143226623535,
          12.868437767028809,
          11.489023208618164,
          9.216432571411133,
          9.844505310058594,
          9.731887817382812,
          11.083733558654785,
          9.150452613830566,
          10.589866638183594,
          11.279449462890625,
          11.022855758666992
         ],
         "xaxis": "x",
         "y": [
          6.5060343742370605,
          6.016804218292236,
          1.9334332942962646,
          8.346830368041992,
          6.421566009521484,
          1.3865773677825928,
          4.6244215965271,
          3.9371373653411865,
          6.064018726348877,
          2.970660924911499,
          4.658467769622803,
          3.4873712062835693,
          7.276998996734619,
          6.47659158706665,
          8.985660552978516,
          3.8062219619750977,
          5.839207172393799,
          4.447177886962891,
          5.313708305358887,
          5.657231330871582,
          4.1541643142700195,
          6.5137038230896,
          2.051273822784424,
          3.1469902992248535,
          7.448878288269043,
          4.4532694816589355,
          2.8609304428100586,
          0.8942604660987854,
          3.8865764141082764,
          9.58019733428955,
          0.9067597389221191,
          6.140383720397949,
          3.9555227756500244,
          2.292086362838745,
          8.645071983337402,
          4.997601509094238,
          1.568150520324707,
          6.738203048706055,
          7.951063632965088,
          5.422403812408447,
          5.487761974334717,
          4.333002090454102,
          8.720488548278809,
          7.884852409362793,
          7.6969099044799805,
          2.6759450435638428,
          3.0721919536590576,
          6.068954944610596,
          2.608163356781006,
          5.383210182189941,
          0.7193536162376404,
          8.927755355834961,
          5.458200454711914,
          5.928349018096924,
          8.1760835647583,
          8.204156875610352,
          7.932651996612549,
          7.715147972106934,
          0.946490466594696,
          5.627677917480469,
          7.132212162017822,
          10.479484558105469,
          2.981309175491333,
          6.1979241371154785,
          6.082078456878662,
          9.245705604553223,
          9.151604652404785,
          9.910246849060059,
          1.9596585035324097,
          7.950498104095459,
          6.040934085845947,
          6.440308094024658,
          5.9192705154418945,
          3.730769157409668,
          1.0998365879058838,
          5.0332112312316895,
          4.1829352378845215,
          1.640228271484375,
          1.2875943183898926,
          9.853811264038086,
          9.815603256225586,
          8.892624855041504,
          2.8971099853515625,
          2.760964870452881,
          2.6481292247772217,
          3.7654941082000732,
          7.896509647369385,
          5.524202346801758,
          5.465671539306641,
          8.720516204833984,
          7.890391826629639,
          7.915436267852783,
          6.226407051086426,
          8.767731666564941,
          6.578988075256348,
          6.009793758392334,
          5.077434539794922,
          8.708263397216797,
          6.039146900177002,
          1.4466749429702759,
          1.009048342704773,
          4.183156490325928,
          6.7103376388549805,
          0.783119261264801,
          9.584424018859863,
          5.396627902984619,
          5.554832935333252,
          8.80408000946045,
          4.504665851593018,
          7.4248223304748535,
          6.493778228759766,
          3.6870064735412598,
          2.214733362197876,
          1.512215495109558,
          5.132719993591309,
          2.5590150356292725,
          0.2745918929576874,
          6.12818717956543,
          6.3973307609558105,
          7.251790523529053,
          0.9216405749320984,
          6.062922954559326,
          4.132167816162109,
          0.40927740931510925,
          2.524710178375244,
          8.900498390197754,
          7.8456501960754395,
          2.8958804607391357,
          2.233262300491333,
          2.6430907249450684,
          2.8858249187469482,
          1.2822762727737427,
          8.792860984802246,
          7.3876633644104,
          9.255935668945312,
          5.12099027633667,
          9.273239135742188,
          6.142952919006348,
          8.032898902893066,
          1.4258918762207031,
          4.34371280670166,
          6.854125022888184,
          0.311281681060791,
          8.665904998779297,
          4.020035266876221,
          8.535991668701172,
          3.7528693675994873,
          8.916849136352539,
          1.301866888999939,
          8.109976768493652,
          9.617810249328613,
          2.8236947059631348,
          2.529275894165039,
          6.005053997039795,
          1.9899711608886719,
          9.649422645568848,
          5.046968460083008,
          6.101550579071045,
          5.328490257263184,
          2.962337017059326,
          1.507777214050293,
          10.29442024230957,
          7.419053554534912,
          3.384904623031616,
          9.822988510131836,
          9.143357276916504,
          8.751969337463379,
          8.762526512145996,
          1.0271409749984741,
          9.091780662536621,
          3.7901320457458496,
          3.4005467891693115,
          4.1465654373168945,
          4.388812065124512,
          5.282582759857178,
          3.0836057662963867,
          7.667243480682373,
          1.5354238748550415,
          7.3553385734558105,
          8.296814918518066,
          7.1552252769470215,
          8.60779857635498,
          3.8143393993377686,
          6.468022346496582,
          9.578032493591309,
          2.624718427658081,
          6.488964557647705,
          8.72357177734375,
          5.462291240692139,
          5.485556602478027,
          9.313993453979492,
          4.386849880218506,
          8.980018615722656,
          5.491615295410156,
          8.991272926330566,
          1.9857871532440186,
          1.048120379447937,
          6.277047634124756,
          0.30322736501693726,
          9.872109413146973,
          8.923944473266602,
          4.123162746429443,
          2.7577853202819824,
          2.081657886505127,
          6.9128546714782715,
          6.524803161621094,
          7.23426628112793,
          5.864050388336182,
          7.126365661621094,
          3.922957181930542,
          1.6068079471588135,
          2.5187294483184814,
          4.109381198883057,
          7.368740558624268,
          7.686070442199707,
          7.13289737701416,
          3.686580181121826,
          10.06412124633789,
          8.889870643615723,
          2.4392266273498535,
          10.088208198547363,
          5.540992736816406
         ],
         "yaxis": "y"
        },
        {
         "customdata": [
          [
           "21 may 1953"
          ],
          [
           "2005"
          ],
          [
           "23 september 1947"
          ],
          [
           "2001"
          ],
          [
           "june 2008"
          ],
          [
           "afl 2005"
          ],
          [
           "1947"
          ],
          [
           "1953 cia robertson panel"
          ],
          [
           "january 1963"
          ],
          [
           "february 1979"
          ],
          [
           "1954"
          ],
          [
           "october 1947"
          ],
          [
           "9 july 1991"
          ],
          [
           "september 1994"
          ],
          [
           "1952"
          ],
          [
           "9 july 1991 entry"
          ],
          [
           "23 october 1988"
          ],
          [
           "1977"
          ],
          [
           "1992"
          ],
          [
           "1953"
          ],
          [
           "1997"
          ],
          [
           "january 1971"
          ],
          [
           "1968"
          ],
          [
           "2004"
          ]
         ],
         "hovertemplate": "cluster=0<br>x=%{x}<br>y=%{y}<br>node=%{customdata[0]}<extra></extra>",
         "legendgroup": "0",
         "marker": {
          "color": "#EF553B",
          "symbol": "circle"
         },
         "mode": "markers",
         "name": "0",
         "orientation": "v",
         "showlegend": true,
         "type": "scatter",
         "x": [
          2.4010164737701416,
          1.9493696689605713,
          2.187587261199951,
          1.960292100906372,
          2.0336973667144775,
          1.9281823635101318,
          2.267141342163086,
          2.4523098468780518,
          2.296771287918091,
          2.205148458480835,
          2.3526771068573,
          2.2256903648376465,
          2.0544931888580322,
          2.087062358856201,
          2.318715810775757,
          2.092120885848999,
          2.169245481491089,
          2.224547863006592,
          2.0205469131469727,
          2.405229091644287,
          2.0607669353485107,
          2.1975576877593994,
          2.2938430309295654,
          1.9675220251083374
         ],
         "xaxis": "x",
         "y": [
          3.997262477874756,
          4.01098108291626,
          4.368440628051758,
          4.0208740234375,
          4.053241729736328,
          3.9590368270874023,
          4.206331253051758,
          3.8924872875213623,
          4.10746431350708,
          4.307216644287109,
          3.9671921730041504,
          4.366443634033203,
          4.222834587097168,
          4.259960651397705,
          3.959681272506714,
          4.239171028137207,
          4.4401726722717285,
          4.29915189743042,
          4.061196804046631,
          3.9808566570281982,
          4.134491443634033,
          4.257440090179443,
          4.011355876922607,
          4.032531261444092
         ],
         "yaxis": "y"
        },
        {
         "customdata": [
          [
           "fort hood"
          ],
          [
           "fort riley"
          ],
          [
           "montauk"
          ],
          [
           "fort belvoir va"
          ],
          [
           "moriches bay"
          ],
          [
           "fort polk"
          ],
          [
           "fort monmouth"
          ],
          [
           "groom lake"
          ],
          [
           "wright patterson air force base"
          ],
          [
           "fort sill"
          ],
          [
           "wrightpatterson air force base"
          ],
          [
           "wright patterson afb"
          ],
          [
           "montauk ny"
          ],
          [
           "pintwater range"
          ],
          [
           "camp pendleton"
          ],
          [
           "wrightpatterson afb"
          ],
          [
           "aac fort worth"
          ],
          [
           "ft belvoir"
          ],
          [
           "dog bone lake"
          ],
          [
           "camp hero"
          ],
          [
           "fort worth"
          ],
          [
           "fort gillem"
          ],
          [
           "fort worth army air field"
          ]
         ],
         "hovertemplate": "cluster=1<br>x=%{x}<br>y=%{y}<br>node=%{customdata[0]}<extra></extra>",
         "legendgroup": "1",
         "marker": {
          "color": "#00cc96",
          "symbol": "circle"
         },
         "mode": "markers",
         "name": "1",
         "orientation": "v",
         "showlegend": true,
         "type": "scatter",
         "x": [
          7.9019060134887695,
          7.864502906799316,
          8.469278335571289,
          8.012441635131836,
          8.404097557067871,
          7.957606792449951,
          8.18586540222168,
          8.719850540161133,
          7.874823570251465,
          7.903905391693115,
          7.875521659851074,
          7.87512731552124,
          8.38115406036377,
          8.58346939086914,
          8.237465858459473,
          7.911539077758789,
          7.863668441772461,
          7.979922771453857,
          8.673368453979492,
          8.353589057922363,
          7.892221927642822,
          7.956109523773193,
          7.825348854064941
         ],
         "xaxis": "x",
         "y": [
          3.8939194679260254,
          3.8847639560699463,
          3.865826368331909,
          3.7692418098449707,
          3.802889347076416,
          3.8984556198120117,
          3.845722198486328,
          4.093761920928955,
          5.020040035247803,
          3.819220781326294,
          5.014838218688965,
          5.023500442504883,
          3.7727644443511963,
          4.436802864074707,
          3.9271295070648193,
          5.005374908447266,
          3.9862983226776123,
          3.761259078979492,
          4.022668361663818,
          4.015809059143066,
          3.917451858520508,
          3.827848196029663,
          4.019681453704834
         ],
         "yaxis": "y"
        },
        {
         "customdata": [
          [
           "condon committee"
          ],
          [
           "congressional"
          ],
          [
           "senate appropriations committee"
          ],
          [
           "congress"
          ],
          [
           "congressional research service"
          ],
          [
           "library of congress"
          ],
          [
           "un special political committee"
          ],
          [
           "senate"
          ],
          [
           "mendel rivers congressional hearings"
          ],
          [
           "congressmen"
          ]
         ],
         "hovertemplate": "cluster=2<br>x=%{x}<br>y=%{y}<br>node=%{customdata[0]}<extra></extra>",
         "legendgroup": "2",
         "marker": {
          "color": "#ab63fa",
          "symbol": "circle"
         },
         "mode": "markers",
         "name": "2",
         "orientation": "v",
         "showlegend": true,
         "type": "scatter",
         "x": [
          13.228611946105957,
          13.300456047058105,
          13.17806625366211,
          13.27905559539795,
          13.277524948120117,
          13.300639152526855,
          13.150634765625,
          13.23731803894043,
          13.245965957641602,
          13.255859375
         ],
         "xaxis": "x",
         "y": [
          9.85152816772461,
          9.832091331481934,
          9.853805541992188,
          9.816105842590332,
          9.81898307800293,
          9.818634986877441,
          9.850835800170898,
          9.786727905273438,
          9.818921089172363,
          9.810017585754395
         ],
         "yaxis": "y"
        },
        {
         "customdata": [
          [
           "los alamos national lab"
          ],
          [
           "white sands proving ground"
          ],
          [
           "sandia base"
          ],
          [
           "los alamos"
          ],
          [
           "sandia"
          ],
          [
           "los alamos national laboratories"
          ],
          [
           "sandia laboratories"
          ],
          [
           "los alamos national laboratory"
          ],
          [
           "bell laboratories"
          ],
          [
           "lanl"
          ],
          [
           "lawrence livermore national laboratory"
          ],
          [
           "lawrence livermore"
          ]
         ],
         "hovertemplate": "cluster=3<br>x=%{x}<br>y=%{y}<br>node=%{customdata[0]}<extra></extra>",
         "legendgroup": "3",
         "marker": {
          "color": "#FFA15A",
          "symbol": "circle"
         },
         "mode": "markers",
         "name": "3",
         "orientation": "v",
         "showlegend": true,
         "type": "scatter",
         "x": [
          15.404800415039062,
          15.440374374389648,
          15.46805477142334,
          15.295266151428223,
          15.45763874053955,
          15.357268333435059,
          15.480085372924805,
          15.357805252075195,
          15.398261070251465,
          15.342621803283691,
          15.373833656311035,
          15.350770950317383
         ],
         "xaxis": "x",
         "y": [
          6.07623291015625,
          6.523502826690674,
          6.495296478271484,
          5.955359935760498,
          6.45869779586792,
          6.025597095489502,
          6.435164451599121,
          6.062105655670166,
          6.061899185180664,
          6.115655422210693,
          6.0486626625061035,
          6.076602935791016
         ],
         "yaxis": "y"
        },
        {
         "customdata": [
          [
           "naval air station"
          ],
          [
           "china lake naval ordnance test station"
          ],
          [
           "naval auxiliary air station edenton"
          ],
          [
           "potomac river naval command"
          ],
          [
           "naval support facility diego garcia"
          ],
          [
           "naval air station los alamitos"
          ],
          [
           "great lakes naval base"
          ],
          [
           "lemoore naval air station"
          ],
          [
           "china lake naval weapons center"
          ],
          [
           "naval air base"
          ],
          [
           "naval air station patuxent river"
          ],
          [
           "cecil field naval air station"
          ],
          [
           "roosevelt roads naval air station"
          ],
          [
           "naval air weapons station china lake"
          ],
          [
           "navy bureau of aeronautics"
          ]
         ],
         "hovertemplate": "cluster=4<br>x=%{x}<br>y=%{y}<br>node=%{customdata[0]}<extra></extra>",
         "legendgroup": "4",
         "marker": {
          "color": "#19d3f3",
          "symbol": "circle"
         },
         "mode": "markers",
         "name": "4",
         "orientation": "v",
         "showlegend": true,
         "type": "scatter",
         "x": [
          13.316411972045898,
          13.515588760375977,
          13.294778823852539,
          13.241572380065918,
          13.340408325195312,
          13.316275596618652,
          13.40607738494873,
          13.312918663024902,
          13.488689422607422,
          13.305328369140625,
          13.333003044128418,
          13.369257926940918,
          13.559694290161133,
          13.53348445892334,
          12.767801284790039
         ],
         "xaxis": "x",
         "y": [
          7.134312152862549,
          7.318742275238037,
          7.125567436218262,
          7.168720245361328,
          7.100144863128662,
          7.128255367279053,
          7.212451934814453,
          7.106851577758789,
          7.27932071685791,
          7.112820625305176,
          7.12127685546875,
          7.067990779876709,
          6.92018461227417,
          7.312865257263184,
          7.23076057434082
         ],
         "yaxis": "y"
        },
        {
         "customdata": [
          [
           "norton afb"
          ],
          [
           "max spiers"
          ],
          [
           "kirtland afb"
          ],
          [
           "langley avon bombing range"
          ],
          [
           "wpafb"
          ],
          [
           "ellsworth afb"
          ],
          [
           "huntsville al"
          ],
          [
           "langley afb"
          ],
          [
           "lockbourne afb"
          ],
          [
           "warren afb"
          ],
          [
           "maxwell afb"
          ],
          [
           "malmstrom afb"
          ],
          [
           "holloman afb"
          ],
          [
           "dyess afb"
          ],
          [
           "edwards air force base"
          ],
          [
           "mclean secure facility"
          ],
          [
           "andrews afb"
          ],
          [
           "walker afb"
          ],
          [
           "myrtle beach afb"
          ],
          [
           "norton air force base"
          ],
          [
           "zaragoza afb"
          ],
          [
           "ben guerir air base"
          ],
          [
           "offutt air force base"
          ],
          [
           "macdill afb"
          ],
          [
           "edwards afb"
          ],
          [
           "george afb"
          ],
          [
           "hunter afb"
          ],
          [
           "francis e warren afb"
          ],
          [
           "hill afb"
          ]
         ],
         "hovertemplate": "cluster=5<br>x=%{x}<br>y=%{y}<br>node=%{customdata[0]}<extra></extra>",
         "legendgroup": "5",
         "marker": {
          "color": "#FF6692",
          "symbol": "circle"
         },
         "mode": "markers",
         "name": "5",
         "orientation": "v",
         "showlegend": true,
         "type": "scatter",
         "x": [
          7.408504486083984,
          8.312765121459961,
          7.383647918701172,
          7.536068916320801,
          8.007438659667969,
          7.58159065246582,
          7.783172607421875,
          7.541078090667725,
          7.5825300216674805,
          7.591177463531494,
          7.759182929992676,
          7.5243916511535645,
          7.581484794616699,
          7.682095050811768,
          7.587711334228516,
          7.6247148513793945,
          7.77197790145874,
          7.760841369628906,
          7.7490234375,
          7.394417762756348,
          7.684439182281494,
          7.406708240509033,
          7.438188076019287,
          7.584868907928467,
          7.651211738586426,
          7.795000076293945,
          7.7817606925964355,
          7.62722110748291,
          7.568200588226318
         ],
         "xaxis": "x",
         "y": [
          6.052974700927734,
          6.265751361846924,
          6.276957988739014,
          6.386800289154053,
          6.559956073760986,
          6.242006778717041,
          6.434671878814697,
          6.39083194732666,
          6.482909679412842,
          6.2567949295043945,
          6.421380043029785,
          6.349535942077637,
          6.633031368255615,
          6.441347122192383,
          6.106809616088867,
          6.602931976318359,
          6.281909942626953,
          6.368880748748779,
          6.4336256980896,
          6.044112682342529,
          6.343398571014404,
          6.088655471801758,
          6.155550003051758,
          6.523995399475098,
          6.236510753631592,
          6.317179203033447,
          6.47495698928833,
          6.154996871948242,
          6.504072666168213
         ],
         "yaxis": "y"
        },
        {
         "customdata": [
          [
           "97th bomber wing"
          ],
          [
           "319th strategic missile squadron"
          ],
          [
           "96th security police squadron"
          ],
          [
           "603rd air engineering squadron"
          ],
          [
           "7602nd air intelligence group"
          ],
          [
           "1127th field activities group"
          ],
          [
           "354th tac fighter wing"
          ]
         ],
         "hovertemplate": "cluster=6<br>x=%{x}<br>y=%{y}<br>node=%{customdata[0]}<extra></extra>",
         "legendgroup": "6",
         "marker": {
          "color": "#B6E880",
          "symbol": "circle"
         },
         "mode": "markers",
         "name": "6",
         "orientation": "v",
         "showlegend": true,
         "type": "scatter",
         "x": [
          9.227018356323242,
          9.238493919372559,
          9.25788402557373,
          9.250978469848633,
          9.41885757446289,
          9.333494186401367,
          9.176721572875977
         ],
         "xaxis": "x",
         "y": [
          10.867195129394531,
          10.84505844116211,
          10.831293106079102,
          10.837567329406738,
          10.627910614013672,
          10.719511032104492,
          10.910502433776855
         ],
         "yaxis": "y"
        },
        {
         "customdata": [
          [
           "cirvis"
          ],
          [
           "marc dantonio"
          ],
          [
           "dl cravens"
          ],
          [
           "darius carter"
          ],
          [
           "dan morris"
          ],
          [
           "calvin parker"
          ],
          [
           "calvine"
          ]
         ],
         "hovertemplate": "cluster=7<br>x=%{x}<br>y=%{y}<br>node=%{customdata[0]}<extra></extra>",
         "legendgroup": "7",
         "marker": {
          "color": "#FF97FF",
          "symbol": "circle"
         },
         "mode": "markers",
         "name": "7",
         "orientation": "v",
         "showlegend": true,
         "type": "scatter",
         "x": [
          13.079360008239746,
          13.226584434509277,
          13.100061416625977,
          13.113859176635742,
          12.917556762695312,
          13.335453987121582,
          13.374080657958984
         ],
         "xaxis": "x",
         "y": [
          3.556816816329956,
          3.3267574310302734,
          3.469933271408081,
          3.368548631668091,
          3.261809825897217,
          3.5593769550323486,
          3.671510934829712
         ],
         "yaxis": "y"
        },
        {
         "customdata": [
          [
           "bay area"
          ],
          [
           "nevada"
          ],
          [
           "arlington"
          ],
          [
           "atlantic ocean"
          ],
          [
           "the arlington institute"
          ],
          [
           "stanford"
          ],
          [
           "georgia"
          ],
          [
           "pacific"
          ],
          [
           "long island"
          ],
          [
           "university of cincinnati"
          ],
          [
           "new york herald tribune"
          ],
          [
           "southwest center for advanced studies"
          ],
          [
           "michigan state university"
          ],
          [
           "idaho"
          ],
          [
           "oregon"
          ],
          [
           "san diego"
          ],
          [
           "pacific ocean"
          ],
          [
           "university of south carolina"
          ],
          [
           "cedar city utah"
          ],
          [
           "sunnyvale ca"
          ],
          [
           "colorado springs co"
          ],
          [
           "virginia"
          ],
          [
           "wayne state university"
          ],
          [
           "el segundo ca"
          ],
          [
           "kwajalein atoll"
          ],
          [
           "southern california"
          ],
          [
           "cheyenne mountain complex"
          ],
          [
           "hudson valley"
          ],
          [
           "arizona state university"
          ],
          [
           "caribbean sea"
          ],
          [
           "cleveland oh"
          ],
          [
           "uss princeton"
          ],
          [
           "long beach ca"
          ],
          [
           "yuma az"
          ],
          [
           "utah"
          ],
          [
           "muskegon mi"
          ],
          [
           "pacific heights"
          ],
          [
           "ada oklahoma"
          ],
          [
           "las vegas"
          ],
          [
           "buchanan ny"
          ],
          [
           "illinois"
          ],
          [
           "new york"
          ],
          [
           "sunnyvale"
          ],
          [
           "catalina islands"
          ],
          [
           "detroit mi"
          ],
          [
           "puerto rico"
          ],
          [
           "california"
          ],
          [
           "toronto"
          ],
          [
           "florida"
          ],
          [
           "coastal"
          ],
          [
           "mariana trench"
          ],
          [
           "san francisco"
          ],
          [
           "battelle memorial institute"
          ],
          [
           "wasatch mountains"
          ],
          [
           "university of lisbon"
          ],
          [
           "michigan"
          ],
          [
           "ohio"
          ],
          [
           "penn state university"
          ],
          [
           "chicago il"
          ],
          [
           "pennzoil"
          ],
          [
           "harvard university"
          ],
          [
           "sunn classic pictures"
          ],
          [
           "nebraska"
          ],
          [
           "washington dc"
          ],
          [
           "montana"
          ],
          [
           "ogden utah"
          ],
          [
           "california state university"
          ],
          [
           "hampton roads"
          ],
          [
           "garrison ut"
          ],
          [
           "lincoln county"
          ],
          [
           "island"
          ],
          [
           "arlington institute"
          ],
          [
           "allen dulles"
          ],
          [
           "mojave desert"
          ],
          [
           "arizona"
          ],
          [
           "detroit"
          ]
         ],
         "hovertemplate": "cluster=8<br>x=%{x}<br>y=%{y}<br>node=%{customdata[0]}<extra></extra>",
         "legendgroup": "8",
         "marker": {
          "color": "#FECB52",
          "symbol": "circle"
         },
         "mode": "markers",
         "name": "8",
         "orientation": "v",
         "showlegend": true,
         "type": "scatter",
         "x": [
          14.171902656555176,
          14.927120208740234,
          14.446993827819824,
          13.729276657104492,
          14.32443618774414,
          14.036306381225586,
          14.697952270507812,
          13.84033203125,
          14.19567584991455,
          14.227975845336914,
          14.575736045837402,
          14.144471168518066,
          14.381875038146973,
          15.065886497497559,
          14.919652938842773,
          14.004728317260742,
          13.840119361877441,
          14.1880464553833,
          15.43929672241211,
          14.107244491577148,
          14.941584587097168,
          14.604097366333008,
          14.360523223876953,
          13.900769233703613,
          13.821147918701172,
          14.010645866394043,
          15.070724487304688,
          14.485085487365723,
          14.241933822631836,
          13.648581504821777,
          14.854277610778809,
          13.973855972290039,
          14.141074180603027,
          14.269735336303711,
          15.347183227539062,
          14.664525032043457,
          13.94234848022461,
          15.324522972106934,
          14.756319046020508,
          14.565469741821289,
          14.8490629196167,
          14.505518913269043,
          14.159527778625488,
          13.988628387451172,
          14.701562881469727,
          13.445326805114746,
          14.239310264587402,
          14.574186325073242,
          14.585368156433105,
          13.766167640686035,
          13.736812591552734,
          14.173599243164062,
          14.358537673950195,
          15.31590747833252,
          14.149237632751465,
          14.760492324829102,
          14.939918518066406,
          14.20263385772705,
          14.76332950592041,
          14.06008529663086,
          14.14042854309082,
          14.021464347839355,
          14.929201126098633,
          14.566102981567383,
          15.006857872009277,
          15.411075592041016,
          14.091622352600098,
          14.509117126464844,
          15.42197036743164,
          14.964110374450684,
          13.95390796661377,
          14.309627532958984,
          14.476448059082031,
          13.960171699523926,
          14.43255615234375,
          14.71348762512207
         ],
         "xaxis": "x",
         "y": [
          4.697027683258057,
          4.489130020141602,
          3.6157267093658447,
          5.256746768951416,
          3.40881085395813,
          4.147575855255127,
          4.3434014320373535,
          5.109926700592041,
          4.905944347381592,
          3.380831718444824,
          4.945176601409912,
          3.9860384464263916,
          3.616201162338257,
          4.518564701080322,
          4.302491664886475,
          4.625571250915527,
          5.231975078582764,
          3.3638100624084473,
          4.404331207275391,
          4.621462345123291,
          4.830496788024902,
          4.141972541809082,
          3.6307854652404785,
          4.479496002197266,
          5.218166351318359,
          4.50074577331543,
          4.6627278327941895,
          4.880619525909424,
          4.0213236808776855,
          5.241474628448486,
          4.061583518981934,
          3.46358323097229,
          4.816308975219727,
          4.149794578552246,
          4.4320173263549805,
          3.6385343074798584,
          4.986944675445557,
          4.31301212310791,
          4.490592002868652,
          4.837887287139893,
          4.058876991271973,
          4.648915767669678,
          4.5526862144470215,
          5.052092552185059,
          3.725438117980957,
          5.147058486938477,
          4.487587928771973,
          4.049107551574707,
          4.353118896484375,
          5.343677520751953,
          5.248452186584473,
          4.515161037445068,
          3.42264461517334,
          4.510477542877197,
          3.291415214538574,
          3.7855639457702637,
          4.036371231079102,
          3.47562575340271,
          4.067200660705566,
          3.8110592365264893,
          3.332580327987671,
          4.7996826171875,
          4.361310958862305,
          3.872183322906494,
          4.505939960479736,
          4.404685974121094,
          4.219216823577881,
          4.063116550445557,
          4.381406784057617,
          4.415765762329102,
          5.155977249145508,
          3.4313580989837646,
          3.6850745677948,
          5.0353899002075195,
          4.243946552276611,
          3.8592748641967773
         ],
         "yaxis": "y"
        },
        {
         "customdata": [
          [
           "mexican border"
          ],
          [
           "amarillo tx"
          ],
          [
           "texas instruments"
          ],
          [
           "palmdale"
          ],
          [
           "mexico"
          ],
          [
           "pahute mesa"
          ],
          [
           "austin tx"
          ],
          [
           "texaco"
          ],
          [
           "el paso"
          ],
          [
           "valparaiso"
          ]
         ],
         "hovertemplate": "cluster=9<br>x=%{x}<br>y=%{y}<br>node=%{customdata[0]}<extra></extra>",
         "legendgroup": "9",
         "marker": {
          "color": "#636efa",
          "symbol": "circle"
         },
         "mode": "markers",
         "name": "9",
         "orientation": "v",
         "showlegend": true,
         "type": "scatter",
         "x": [
          13.106450080871582,
          13.504448890686035,
          13.398428916931152,
          13.550272941589355,
          12.970459938049316,
          13.321928977966309,
          13.508225440979004,
          13.222403526306152,
          13.266009330749512,
          13.154826164245605
         ],
         "xaxis": "x",
         "y": [
          4.466182231903076,
          4.6153717041015625,
          4.7181220054626465,
          4.578458309173584,
          4.754377365112305,
          4.394099712371826,
          4.620364189147949,
          4.714693546295166,
          4.432406902313232,
          4.339302062988281
         ],
         "yaxis": "y"
        },
        {
         "customdata": [
          [
           "canada"
          ],
          [
           "morocco"
          ],
          [
           "spain"
          ],
          [
           "british"
          ],
          [
           "chile"
          ],
          [
           "switzerland"
          ],
          [
           "toulouse"
          ],
          [
           "president of france"
          ],
          [
           "france"
          ],
          [
           "german"
          ],
          [
           "scotland"
          ],
          [
           "liechtenstein"
          ],
          [
           "afghanistan"
          ],
          [
           "thiel capital"
          ],
          [
           "austria"
          ],
          [
           "africa"
          ],
          [
           "zurich"
          ],
          [
           "russia"
          ],
          [
           "guadeloupe"
          ],
          [
           "australia"
          ]
         ],
         "hovertemplate": "cluster=10<br>x=%{x}<br>y=%{y}<br>node=%{customdata[0]}<extra></extra>",
         "legendgroup": "10",
         "marker": {
          "color": "#EF553B",
          "symbol": "circle"
         },
         "mode": "markers",
         "name": "10",
         "orientation": "v",
         "showlegend": true,
         "type": "scatter",
         "x": [
          12.808988571166992,
          12.499809265136719,
          12.746347427368164,
          12.198319435119629,
          12.538034439086914,
          12.31075382232666,
          12.595008850097656,
          12.313523292541504,
          12.575361251831055,
          12.277329444885254,
          12.536874771118164,
          12.211782455444336,
          12.316962242126465,
          12.034485816955566,
          12.32875919342041,
          12.339508056640625,
          12.199403762817383,
          12.660447120666504,
          12.706526756286621,
          12.638490676879883
         ],
         "xaxis": "x",
         "y": [
          4.8020806312561035,
          5.218987941741943,
          4.956204414367676,
          4.999450206756592,
          4.676324844360352,
          4.771370887756348,
          5.076298713684082,
          4.99119758605957,
          5.024845123291016,
          4.875955104827881,
          4.884105205535889,
          4.707280158996582,
          5.280355453491211,
          4.703060626983643,
          4.777896881103516,
          5.293581008911133,
          4.712219715118408,
          4.877349376678467,
          5.12379264831543,
          4.831514835357666
         ],
         "yaxis": "y"
        },
        {
         "customdata": [
          [
           "john f kennedy school of government"
          ],
          [
           "lyndon b johnson"
          ],
          [
           "uss john f kennedy"
          ],
          [
           "jon ferry"
          ],
          [
           "kennedy space center"
          ],
          [
           "kennedy"
          ],
          [
           "fergus county"
          ]
         ],
         "hovertemplate": "cluster=11<br>x=%{x}<br>y=%{y}<br>node=%{customdata[0]}<extra></extra>",
         "legendgroup": "11",
         "marker": {
          "color": "#00cc96",
          "symbol": "circle"
         },
         "mode": "markers",
         "name": "11",
         "orientation": "v",
         "showlegend": true,
         "type": "scatter",
         "x": [
          12.581531524658203,
          12.382575988769531,
          12.375628471374512,
          12.251872062683105,
          12.552373886108398,
          12.499590873718262,
          12.245407104492188
         ],
         "xaxis": "x",
         "y": [
          2.177356719970703,
          1.9761849641799927,
          2.0878257751464844,
          2.1714601516723633,
          2.192456007003784,
          2.149237871170044,
          2.2013628482818604
         ],
         "yaxis": "y"
        },
        {
         "customdata": [
          [
           "lockheed martin"
          ],
          [
           "skunk works"
          ],
          [
           "lockheed martin advanced technology center"
          ],
          [
           "lockheed martin information systems"
          ],
          [
           "lockheed skunk works"
          ],
          [
           "lockheedmartin helendale plant"
          ],
          [
           "lockheed"
          ],
          [
           "glenn l martin company"
          ],
          [
           "glenn l martin co"
          ],
          [
           "lockheedvega"
          ],
          [
           "lockheed skunkworks"
          ]
         ],
         "hovertemplate": "cluster=12<br>x=%{x}<br>y=%{y}<br>node=%{customdata[0]}<extra></extra>",
         "legendgroup": "12",
         "marker": {
          "color": "#ab63fa",
          "symbol": "circle"
         },
         "mode": "markers",
         "name": "12",
         "orientation": "v",
         "showlegend": true,
         "type": "scatter",
         "x": [
          13.243803977966309,
          13.188185691833496,
          13.258167266845703,
          13.278308868408203,
          13.277670860290527,
          13.265434265136719,
          13.16831111907959,
          13.086041450500488,
          13.060931205749512,
          13.278045654296875,
          13.280531883239746
         ],
         "xaxis": "x",
         "y": [
          8.374584197998047,
          8.21759033203125,
          8.407649993896484,
          8.400617599487305,
          8.251724243164062,
          8.381773948669434,
          8.299789428710938,
          8.585999488830566,
          8.58011245727539,
          8.306792259216309,
          8.291275978088379
         ],
         "yaxis": "y"
        },
        {
         "customdata": [
          [
           "reynolds electronics"
          ],
          [
           "rocketdyne"
          ],
          [
           "northrop norair"
          ],
          [
           "northrop anthill tejon rance"
          ],
          [
           "northrop grumman"
          ],
          [
           "raytheon"
          ],
          [
           "boeing phantom works"
          ],
          [
           "northropgrumman"
          ]
         ],
         "hovertemplate": "cluster=13<br>x=%{x}<br>y=%{y}<br>node=%{customdata[0]}<extra></extra>",
         "legendgroup": "13",
         "marker": {
          "color": "#FFA15A",
          "symbol": "circle"
         },
         "mode": "markers",
         "name": "13",
         "orientation": "v",
         "showlegend": true,
         "type": "scatter",
         "x": [
          12.631712913513184,
          12.702177047729492,
          12.788311958312988,
          12.867430686950684,
          12.837915420532227,
          12.81598949432373,
          12.851794242858887,
          12.792909622192383
         ],
         "xaxis": "x",
         "y": [
          8.340279579162598,
          8.299454689025879,
          8.200098991394043,
          8.226236343383789,
          8.232393264770508,
          8.251537322998047,
          7.969675064086914,
          8.257326126098633
         ],
         "yaxis": "y"
        },
        {
         "customdata": [
          [
           "air force"
          ],
          [
           "air force institute of technology"
          ],
          [
           "us air force"
          ],
          [
           "usaf"
          ],
          [
           "air technical intelligence center"
          ],
          [
           "alleged usaf incidentcomplaint form"
          ],
          [
           "air force regulation 2002"
          ],
          [
           "air force archives"
          ],
          [
           "air force intelligence"
          ],
          [
           "air intelligence"
          ]
         ],
         "hovertemplate": "cluster=14<br>x=%{x}<br>y=%{y}<br>node=%{customdata[0]}<extra></extra>",
         "legendgroup": "14",
         "marker": {
          "color": "#19d3f3",
          "symbol": "circle"
         },
         "mode": "markers",
         "name": "14",
         "orientation": "v",
         "showlegend": true,
         "type": "scatter",
         "x": [
          9.915821075439453,
          9.957433700561523,
          10.003801345825195,
          10.013120651245117,
          9.782392501831055,
          9.98779010772705,
          9.884088516235352,
          9.953775405883789,
          9.775444984436035,
          9.716713905334473
         ],
         "xaxis": "x",
         "y": [
          10.362098693847656,
          10.162324905395508,
          10.328163146972656,
          10.349679946899414,
          10.254761695861816,
          10.398353576660156,
          10.46535873413086,
          10.342772483825684,
          10.17344856262207,
          10.253816604614258
         ],
         "yaxis": "y"
        },
        {
         "customdata": [
          [
           "intelligence analyst"
          ],
          [
           "counterintelligence"
          ],
          [
           "intelligence and security command"
          ],
          [
           "intelligence community"
          ],
          [
           "intelligence agencies"
          ]
         ],
         "hovertemplate": "cluster=15<br>x=%{x}<br>y=%{y}<br>node=%{customdata[0]}<extra></extra>",
         "legendgroup": "15",
         "marker": {
          "color": "#FF6692",
          "symbol": "circle"
         },
         "mode": "markers",
         "name": "15",
         "orientation": "v",
         "showlegend": true,
         "type": "scatter",
         "x": [
          9.642816543579102,
          9.634449005126953,
          9.710375785827637,
          9.637923240661621,
          9.757552146911621
         ],
         "xaxis": "x",
         "y": [
          9.585022926330566,
          9.625934600830078,
          9.887091636657715,
          9.668030738830566,
          9.64404010772705
         ],
         "yaxis": "y"
        },
        {
         "customdata": [
          [
           "gianluca gemme"
          ],
          [
           "andrea rossi"
          ],
          [
           "salvatore pais"
          ],
          [
           "victor martinez"
          ],
          [
           "jesse marcel sr"
          ],
          [
           "joe murgia"
          ],
          [
           "jesse marcel jr"
          ],
          [
           "jesse marcel"
          ],
          [
           "jack sarfatti"
          ],
          [
           "anthony o mirarchi"
          ],
          [
           "marisa"
          ],
          [
           "marconi"
          ],
          [
           "victor marchetti"
          ],
          [
           "andrew basiago"
          ],
          [
           "jacques valle"
          ],
          [
           "alexandre martins"
          ],
          [
           "ron pandolfi"
          ],
          [
           "mario pinheiro"
          ]
         ],
         "hovertemplate": "cluster=16<br>x=%{x}<br>y=%{y}<br>node=%{customdata[0]}<extra></extra>",
         "legendgroup": "16",
         "marker": {
          "color": "#B6E880",
          "symbol": "circle"
         },
         "mode": "markers",
         "name": "16",
         "orientation": "v",
         "showlegend": true,
         "type": "scatter",
         "x": [
          11.775006294250488,
          11.822662353515625,
          12.016305923461914,
          12.251587867736816,
          12.135367393493652,
          11.772858619689941,
          12.097322463989258,
          12.076891899108887,
          11.875460624694824,
          11.845444679260254,
          11.784134864807129,
          11.828678131103516,
          12.015302658081055,
          11.845474243164062,
          12.027709007263184,
          12.147109985351562,
          11.887027740478516,
          12.035734176635742
         ],
         "xaxis": "x",
         "y": [
          3.4519972801208496,
          3.3660600185394287,
          3.623471260070801,
          3.5787670612335205,
          3.366969347000122,
          3.5328240394592285,
          3.400007486343384,
          3.4504234790802,
          3.550198554992676,
          3.5898594856262207,
          3.711305618286133,
          3.808302164077759,
          3.638158082962036,
          3.372901201248169,
          3.482515811920166,
          3.6139800548553467,
          3.2745842933654785,
          3.4121253490448
         ],
         "yaxis": "y"
        },
        {
         "customdata": [
          [
           "cmdr"
          ],
          [
           "signal corps"
          ],
          [
           "vadm"
          ],
          [
           "bdm corp"
          ],
          [
           "uss nimitz"
          ],
          [
           "cyber corp"
          ],
          [
           "lance corporal"
          ],
          [
           "bdm"
          ],
          [
           "radm"
          ],
          [
           "marine corps"
          ],
          [
           "coast guard"
          ],
          [
           "usmc"
          ],
          [
           "petty officer first class"
          ],
          [
           "chilean navy"
          ],
          [
           "navy"
          ],
          [
           "us navy"
          ],
          [
           "philadelphia navy yard"
          ]
         ],
         "hovertemplate": "cluster=17<br>x=%{x}<br>y=%{y}<br>node=%{customdata[0]}<extra></extra>",
         "legendgroup": "17",
         "marker": {
          "color": "#FF97FF",
          "symbol": "circle"
         },
         "mode": "markers",
         "name": "17",
         "orientation": "v",
         "showlegend": true,
         "type": "scatter",
         "x": [
          12.196990013122559,
          12.1891508102417,
          12.159107208251953,
          12.007711410522461,
          11.618011474609375,
          12.285591125488281,
          12.28144645690918,
          11.904617309570312,
          12.146256446838379,
          12.164265632629395,
          12.296308517456055,
          11.967611312866211,
          12.259753227233887,
          12.155174255371094,
          12.10538387298584,
          12.039121627807617,
          12.084547996520996
         ],
         "xaxis": "x",
         "y": [
          6.994529724121094,
          6.715494155883789,
          6.964505195617676,
          6.406115531921387,
          6.534087657928467,
          6.394059658050537,
          6.916996955871582,
          6.62349271774292,
          6.997072219848633,
          6.6996684074401855,
          6.688516139984131,
          6.761762619018555,
          6.979061603546143,
          6.6162848472595215,
          6.783415794372559,
          6.734928131103516,
          6.7760329246521
         ],
         "yaxis": "y"
        },
        {
         "customdata": [
          [
           "secretary of the air force"
          ],
          [
           "general officer"
          ],
          [
           "assistant secretary"
          ],
          [
           "director of information services"
          ],
          [
           "under secretary of defense for intelligence and security"
          ],
          [
           "deputy assistant secretary of defense for intelligence"
          ],
          [
           "usaf chief of staff"
          ],
          [
           "under secretary of the navy"
          ],
          [
           "under secretary for intelligence and analysis"
          ],
          [
           "vice chair of the joint chiefs of staff"
          ],
          [
           "chief officer of policy for the nsa"
          ],
          [
           "cia deputy director"
          ],
          [
           "nsa director"
          ],
          [
           "secretary of energy"
          ],
          [
           "deputy director of the cia"
          ],
          [
           "assistant secretary of defense for intelligence"
          ],
          [
           "secretary of the navy"
          ],
          [
           "comptroller general"
          ]
         ],
         "hovertemplate": "cluster=18<br>x=%{x}<br>y=%{y}<br>node=%{customdata[0]}<extra></extra>",
         "legendgroup": "18",
         "marker": {
          "color": "#FECB52",
          "symbol": "circle"
         },
         "mode": "markers",
         "name": "18",
         "orientation": "v",
         "showlegend": true,
         "type": "scatter",
         "x": [
          10.933625221252441,
          10.885663032531738,
          11.19909954071045,
          11.386101722717285,
          11.23695182800293,
          11.290369033813477,
          10.833694458007812,
          11.112509727478027,
          11.193026542663574,
          10.95659065246582,
          11.233973503112793,
          11.266854286193848,
          11.270853042602539,
          11.023107528686523,
          11.326620101928711,
          11.261940956115723,
          10.983242988586426,
          10.865180015563965
         ],
         "xaxis": "x",
         "y": [
          10.881841659545898,
          10.615757942199707,
          10.817325592041016,
          10.635906219482422,
          10.971076965332031,
          10.868016242980957,
          10.855839729309082,
          10.906082153320312,
          11.023822784423828,
          10.846778869628906,
          10.631732940673828,
          10.92458438873291,
          10.542900085449219,
          10.733609199523926,
          10.898941040039062,
          10.882862091064453,
          10.867612838745117,
          10.578858375549316
         ],
         "yaxis": "y"
        },
        {
         "customdata": [
          [
           "mcdonnelldouglas"
          ],
          [
           "mcdonnell"
          ],
          [
           "douglas torr"
          ],
          [
           "mcdonnell douglas"
          ],
          [
           "mcdonnell douglas corporation"
          ],
          [
           "douglas aircraft"
          ]
         ],
         "hovertemplate": "cluster=19<br>x=%{x}<br>y=%{y}<br>node=%{customdata[0]}<extra></extra>",
         "legendgroup": "19",
         "marker": {
          "color": "#636efa",
          "symbol": "circle"
         },
         "mode": "markers",
         "name": "19",
         "orientation": "v",
         "showlegend": true,
         "type": "scatter",
         "x": [
          11.73391056060791,
          11.592893600463867,
          11.760783195495605,
          11.695301055908203,
          11.714759826660156,
          11.721857070922852
         ],
         "xaxis": "x",
         "y": [
          0.40352511405944824,
          0.5657010078430176,
          0.37651458382606506,
          0.41567686200141907,
          0.39110425114631653,
          0.383174866437912
         ],
         "yaxis": "y"
        },
        {
         "customdata": [
          [
           "donald b rice"
          ],
          [
           "uss ronald reagan"
          ],
          [
           "george bush sr"
          ],
          [
           "ronald reagan"
          ],
          [
           "donald flickinger"
          ],
          [
           "harry s truman"
          ],
          [
           "ronald moultrie"
          ],
          [
           "donald rumsfeld"
          ],
          [
           "uss russell"
          ]
         ],
         "hovertemplate": "cluster=20<br>x=%{x}<br>y=%{y}<br>node=%{customdata[0]}<extra></extra>",
         "legendgroup": "20",
         "marker": {
          "color": "#EF553B",
          "symbol": "circle"
         },
         "mode": "markers",
         "name": "20",
         "orientation": "v",
         "showlegend": true,
         "type": "scatter",
         "x": [
          12.19694995880127,
          12.245485305786133,
          12.248442649841309,
          12.29454517364502,
          12.059370994567871,
          12.528594970703125,
          11.983443260192871,
          12.263401985168457,
          12.05484390258789
         ],
         "xaxis": "x",
         "y": [
          1.353425145149231,
          1.3125038146972656,
          1.3417885303497314,
          1.3278478384017944,
          1.476196050643921,
          1.3150616884231567,
          1.4715867042541504,
          1.3356798887252808,
          1.3986854553222656
         ],
         "yaxis": "y"
        },
        {
         "customdata": [
          [
           "daniel sheehan"
          ],
          [
           "richard dolan"
          ],
          [
           "daniel l sherman"
          ],
          [
           "oke shannon"
          ],
          [
           "sherman"
          ],
          [
           "ingo swann"
          ],
          [
           "dan sherman"
          ]
         ],
         "hovertemplate": "cluster=21<br>x=%{x}<br>y=%{y}<br>node=%{customdata[0]}<extra></extra>",
         "legendgroup": "21",
         "marker": {
          "color": "#00cc96",
          "symbol": "circle"
         },
         "mode": "markers",
         "name": "21",
         "orientation": "v",
         "showlegend": true,
         "type": "scatter",
         "x": [
          10.94983196258545,
          10.783406257629395,
          11.023672103881836,
          11.032774925231934,
          10.958878517150879,
          11.070980072021484,
          11.03111743927002
         ],
         "xaxis": "x",
         "y": [
          3.1788196563720703,
          2.9757838249206543,
          3.2852323055267334,
          3.37613844871521,
          3.427967071533203,
          3.295992851257324,
          3.3751490116119385
         ],
         "yaxis": "y"
        },
        {
         "customdata": [
          [
           "airline pilots"
          ],
          [
           "airline industry"
          ],
          [
           "aerospace engineer"
          ],
          [
           "aerospace industry"
          ],
          [
           "falcon space"
          ],
          [
           "ford aerospace"
          ],
          [
           "commission on the future of the us aerospace industry"
          ],
          [
           "aerospace companies"
          ],
          [
           "aerospace company"
          ],
          [
           "orbitec"
          ],
          [
           "aerospace corp"
          ],
          [
           "orbital technologies corporation"
          ]
         ],
         "hovertemplate": "cluster=22<br>x=%{x}<br>y=%{y}<br>node=%{customdata[0]}<extra></extra>",
         "legendgroup": "22",
         "marker": {
          "color": "#ab63fa",
          "symbol": "circle"
         },
         "mode": "markers",
         "name": "22",
         "orientation": "v",
         "showlegend": true,
         "type": "scatter",
         "x": [
          11.84029769897461,
          11.879974365234375,
          11.891448020935059,
          11.940174102783203,
          11.783622741699219,
          12.028483390808105,
          11.85454273223877,
          11.956871032714844,
          11.965319633483887,
          12.173810005187988,
          11.98650074005127,
          12.205460548400879
         ],
         "xaxis": "x",
         "y": [
          7.924943923950195,
          8.037192344665527,
          8.135722160339355,
          8.148552894592285,
          8.352445602416992,
          8.267538070678711,
          8.290323257446289,
          8.096988677978516,
          8.155712127685547,
          8.020580291748047,
          8.082596778869629,
          8.110198974609375
         ],
         "yaxis": "y"
        },
        {
         "customdata": [
          [
           "astronomer"
          ],
          [
           "microbiologist"
          ],
          [
           "biologists"
          ],
          [
           "america cosmic"
          ],
          [
           "quantum vacuum"
          ],
          [
           "einstein"
          ],
          [
           "oppenheimer"
          ],
          [
           "futurist"
          ],
          [
           "physicist"
          ],
          [
           "wernher von braun"
          ],
          [
           "engineer"
          ]
         ],
         "hovertemplate": "cluster=23<br>x=%{x}<br>y=%{y}<br>node=%{customdata[0]}<extra></extra>",
         "legendgroup": "23",
         "marker": {
          "color": "#FFA15A",
          "symbol": "circle"
         },
         "mode": "markers",
         "name": "23",
         "orientation": "v",
         "showlegend": true,
         "type": "scatter",
         "x": [
          9.489120483398438,
          9.387176513671875,
          9.368025779724121,
          9.23308277130127,
          9.772730827331543,
          9.800981521606445,
          9.642786026000977,
          9.309324264526367,
          9.551491737365723,
          9.732239723205566,
          9.469176292419434
         ],
         "xaxis": "x",
         "y": [
          8.445331573486328,
          8.395354270935059,
          8.396672248840332,
          8.32728385925293,
          8.656298637390137,
          8.583120346069336,
          8.455852508544922,
          8.548974990844727,
          8.482478141784668,
          8.465544700622559,
          8.384779930114746
         ],
         "yaxis": "y"
        },
        {
         "customdata": [
          [
           "frc west"
          ],
          [
           "jim angleton"
          ],
          [
           "james goodall"
          ],
          [
           "jim west"
          ],
          [
           "james westwood"
          ],
          [
           "james woodward"
          ],
          [
           "james cox"
          ]
         ],
         "hovertemplate": "cluster=24<br>x=%{x}<br>y=%{y}<br>node=%{customdata[0]}<extra></extra>",
         "legendgroup": "24",
         "marker": {
          "color": "#19d3f3",
          "symbol": "circle"
         },
         "mode": "markers",
         "name": "24",
         "orientation": "v",
         "showlegend": true,
         "type": "scatter",
         "x": [
          12.239888191223145,
          12.238670349121094,
          12.08459186553955,
          12.233990669250488,
          12.098593711853027,
          12.080856323242188,
          12.052759170532227
         ],
         "xaxis": "x",
         "y": [
          2.5681073665618896,
          2.781172513961792,
          2.641765832901001,
          2.5959322452545166,
          2.5812065601348877,
          2.5534045696258545,
          2.607226848602295
         ],
         "yaxis": "y"
        },
        {
         "customdata": [
          [
           "scientific coalition for uap studies"
          ],
          [
           "crash retrieval"
          ],
          [
           "uaprelated cables"
          ],
          [
           "uap materials analysis"
          ],
          [
           "del rio tx uap crash"
          ],
          [
           "uap crash"
          ],
          [
           "rendlesham forest incident"
          ],
          [
           "uap sighting incident and body recovery"
          ],
          [
           "crash of a ufo"
          ],
          [
           "holloman uap landing"
          ],
          [
           "triangular uap sightings"
          ],
          [
           "uap"
          ]
         ],
         "hovertemplate": "cluster=25<br>x=%{x}<br>y=%{y}<br>node=%{customdata[0]}<extra></extra>",
         "legendgroup": "25",
         "marker": {
          "color": "#FF6692",
          "symbol": "circle"
         },
         "mode": "markers",
         "name": "25",
         "orientation": "v",
         "showlegend": true,
         "type": "scatter",
         "x": [
          8.003388404846191,
          8.433673858642578,
          7.942413330078125,
          7.95556116104126,
          7.963932037353516,
          7.9717230796813965,
          8.220052719116211,
          8.04760456085205,
          8.597445487976074,
          7.918728828430176,
          8.097380638122559,
          7.9896464347839355
         ],
         "xaxis": "x",
         "y": [
          7.648681640625,
          7.8507819175720215,
          7.592344760894775,
          7.600925445556641,
          7.6591033935546875,
          7.627401351928711,
          7.847428321838379,
          7.708035945892334,
          8.00468635559082,
          7.519533634185791,
          7.765626430511475,
          7.5642547607421875
         ],
         "yaxis": "y"
        },
        {
         "customdata": [
          [
           "flying saucer"
          ],
          [
           "ufo encounters"
          ],
          [
           "abductions"
          ],
          [
           "mutual ufo network"
          ],
          [
           "ultraterrestrial hypothesis"
          ],
          [
           "ufoheap"
          ],
          [
           "ufologist"
          ],
          [
           "ufo"
          ],
          [
           "antigravity"
          ]
         ],
         "hovertemplate": "cluster=26<br>x=%{x}<br>y=%{y}<br>node=%{customdata[0]}<extra></extra>",
         "legendgroup": "26",
         "marker": {
          "color": "#B6E880",
          "symbol": "circle"
         },
         "mode": "markers",
         "name": "26",
         "orientation": "v",
         "showlegend": true,
         "type": "scatter",
         "x": [
          9.026357650756836,
          8.669379234313965,
          8.784086227416992,
          8.819971084594727,
          8.851239204406738,
          8.808401107788086,
          8.931361198425293,
          8.891195297241211,
          9.0606689453125
         ],
         "xaxis": "x",
         "y": [
          8.236315727233887,
          8.075010299682617,
          8.113346099853516,
          8.177459716796875,
          8.345988273620605,
          8.148529052734375,
          8.282482147216797,
          8.236995697021484,
          8.324178695678711
         ],
         "yaxis": "y"
        },
        {
         "customdata": [
          [
           "ibm"
          ],
          [
           "general electric"
          ],
          [
           "fluxliner"
          ],
          [
           "mississippi house resolution no 14"
          ],
          [
           "icbm"
          ]
         ],
         "hovertemplate": "cluster=27<br>x=%{x}<br>y=%{y}<br>node=%{customdata[0]}<extra></extra>",
         "legendgroup": "27",
         "marker": {
          "color": "#FF97FF",
          "symbol": "circle"
         },
         "mode": "markers",
         "name": "27",
         "orientation": "v",
         "showlegend": true,
         "type": "scatter",
         "x": [
          11.872769355773926,
          11.804377555847168,
          11.962653160095215,
          11.693727493286133,
          11.597636222839355
         ],
         "xaxis": "x",
         "y": [
          7.603544235229492,
          7.551241874694824,
          7.313882350921631,
          7.471029281616211,
          7.699256896972656
         ],
         "yaxis": "y"
        },
        {
         "customdata": [
          [
           "white house"
          ],
          [
           "uk ministry of defence"
          ],
          [
           "pentagon"
          ],
          [
           "domestic contact service"
          ],
          [
           "foia"
          ],
          [
           "state department"
          ],
          [
           "fbi"
          ],
          [
           "department of energy"
          ],
          [
           "war department"
          ],
          [
           "vietnam war"
          ],
          [
           "department of homeland security"
          ],
          [
           "civilian contractors"
          ],
          [
           "the pentagon"
          ],
          [
           "defense contractor"
          ],
          [
           "pentacle memorandum"
          ],
          [
           "atomic energy commission"
          ],
          [
           "department of defense"
          ],
          [
           "defense industry"
          ],
          [
           "ministry of defence"
          ]
         ],
         "hovertemplate": "cluster=28<br>x=%{x}<br>y=%{y}<br>node=%{customdata[0]}<extra></extra>",
         "legendgroup": "28",
         "marker": {
          "color": "#FECB52",
          "symbol": "circle"
         },
         "mode": "markers",
         "name": "28",
         "orientation": "v",
         "showlegend": true,
         "type": "scatter",
         "x": [
          10.850875854492188,
          10.386796951293945,
          10.447684288024902,
          10.872544288635254,
          10.556488037109375,
          10.641545295715332,
          10.530027389526367,
          10.702596664428711,
          10.419294357299805,
          10.42631721496582,
          10.694916725158691,
          10.422615051269531,
          10.488655090332031,
          10.349807739257812,
          10.418492317199707,
          10.824960708618164,
          10.462128639221191,
          10.257892608642578,
          10.372584342956543
         ],
         "xaxis": "x",
         "y": [
          9.44212818145752,
          9.483882904052734,
          9.207361221313477,
          9.604623794555664,
          9.163427352905273,
          9.587363243103027,
          9.201878547668457,
          9.605228424072266,
          9.458986282348633,
          9.267582893371582,
          9.574441909790039,
          9.482548713684082,
          9.150599479675293,
          9.619073867797852,
          9.145502090454102,
          9.423851013183594,
          9.51106071472168,
          9.665837287902832,
          9.517800331115723
         ],
         "yaxis": "y"
        },
        {
         "customdata": [
          [
           "united nations"
          ],
          [
           "mercury program"
          ],
          [
           "sdi program"
          ],
          [
           "usg"
          ],
          [
           "operation starfish prime"
          ],
          [
           "spy satellite"
          ],
          [
           "med program"
          ],
          [
           "dci"
          ],
          [
           "remote viewing program"
          ],
          [
           "ousdis"
          ],
          [
           "dodig"
          ],
          [
           "egg special projects"
          ],
          [
           "uss carl vinson"
          ],
          [
           "north atlantic treaty organization"
          ],
          [
           "operation shocker"
          ],
          [
           "usdis"
          ],
          [
           "usn"
          ],
          [
           "dsp satellite"
          ],
          [
           "usg contractor space"
          ],
          [
           "dod"
          ],
          [
           "star wars program"
          ],
          [
           "unacknowledged special access program"
          ],
          [
           "doe"
          ],
          [
           "nato"
          ],
          [
           "psitech"
          ]
         ],
         "hovertemplate": "cluster=29<br>x=%{x}<br>y=%{y}<br>node=%{customdata[0]}<extra></extra>",
         "legendgroup": "29",
         "marker": {
          "color": "#636efa",
          "symbol": "circle"
         },
         "mode": "markers",
         "name": "29",
         "orientation": "v",
         "showlegend": true,
         "type": "scatter",
         "x": [
          11.273082733154297,
          10.731789588928223,
          10.638851165771484,
          10.954833984375,
          10.40147876739502,
          10.528005599975586,
          10.836734771728516,
          10.755931854248047,
          10.562737464904785,
          10.935897827148438,
          10.745670318603516,
          10.607248306274414,
          11.542505264282227,
          11.4069242477417,
          10.337252616882324,
          10.916634559631348,
          11.340726852416992,
          10.587238311767578,
          11.063820838928223,
          10.660456657409668,
          10.617785453796387,
          10.688070297241211,
          10.701787948608398,
          11.368943214416504,
          10.535263061523438
         ],
         "xaxis": "x",
         "y": [
          6.363377571105957,
          6.904720783233643,
          6.463502883911133,
          6.242626190185547,
          6.942925930023193,
          6.871756076812744,
          6.868753910064697,
          6.3729352951049805,
          6.973480701446533,
          6.14364767074585,
          6.4823832511901855,
          7.30600643157959,
          6.400007247924805,
          6.417506694793701,
          6.898479461669922,
          6.295021057128906,
          6.3427324295043945,
          6.626546382904053,
          6.393660068511963,
          6.52606725692749,
          7.001523494720459,
          6.9514031410217285,
          6.47665548324585,
          6.3855438232421875,
          6.712865352630615
         ],
         "yaxis": "y"
        },
        {
         "customdata": [
          [
           "enginespropulsion"
          ],
          [
           "project marauder"
          ],
          [
           "aircraft"
          ],
          [
           "ohare international airport"
          ],
          [
           "hovercraft"
          ],
          [
           "electroaerodynamics"
          ],
          [
           "hughes aircraft"
          ],
          [
           "project skylite"
          ],
          [
           "project twinkle"
          ],
          [
           "project blue heaven"
          ],
          [
           "electromagnetic waves"
          ],
          [
           "disclosure project"
          ],
          [
           "project moonstruck"
          ],
          [
           "project preserve destiny"
          ],
          [
           "stealth aircraft"
          ],
          [
           "minuteman iii"
          ],
          [
           "electromagnetic air vehicle"
          ],
          [
           "electrodynamic theory"
          ],
          [
           "stealth fighter"
          ],
          [
           "wingless electromagnetic air vehicle"
          ],
          [
           "magnetohydrodynamics"
          ]
         ],
         "hovertemplate": "cluster=30<br>x=%{x}<br>y=%{y}<br>node=%{customdata[0]}<extra></extra>",
         "legendgroup": "30",
         "marker": {
          "color": "#EF553B",
          "symbol": "circle"
         },
         "mode": "markers",
         "name": "30",
         "orientation": "v",
         "showlegend": true,
         "type": "scatter",
         "x": [
          10.69313907623291,
          10.891799926757812,
          10.718389511108398,
          10.82994270324707,
          10.688237190246582,
          10.386568069458008,
          10.625042915344238,
          10.819971084594727,
          10.904309272766113,
          11.23256778717041,
          10.307860374450684,
          10.78222370147705,
          11.074958801269531,
          11.153989791870117,
          10.621625900268555,
          11.172049522399902,
          10.475727081298828,
          10.289728164672852,
          10.570347785949707,
          10.534143447875977,
          10.381138801574707
         ],
         "xaxis": "x",
         "y": [
          7.898101329803467,
          7.43370246887207,
          7.841347694396973,
          7.875782012939453,
          7.832428932189941,
          8.176188468933105,
          7.765131950378418,
          7.519039630889893,
          7.445074558258057,
          7.434969902038574,
          8.179143905639648,
          7.475677967071533,
          7.526307106018066,
          7.452880382537842,
          7.802799701690674,
          7.719178676605225,
          8.102079391479492,
          8.21729850769043,
          7.582273006439209,
          8.04975414276123,
          8.151809692382812
         ],
         "yaxis": "y"
        },
        {
         "customdata": [
          [
           "afosi"
          ],
          [
           "som101"
          ],
          [
           "aatip"
          ],
          [
           "a12 prototype"
          ],
          [
           "g2"
          ],
          [
           "permindex"
          ],
          [
           "mj12"
          ],
          [
           "f4"
          ],
          [
           "b29"
          ],
          [
           "jason group"
          ],
          [
           "f117a"
          ]
         ],
         "hovertemplate": "cluster=31<br>x=%{x}<br>y=%{y}<br>node=%{customdata[0]}<extra></extra>",
         "legendgroup": "31",
         "marker": {
          "color": "#00cc96",
          "symbol": "circle"
         },
         "mode": "markers",
         "name": "31",
         "orientation": "v",
         "showlegend": true,
         "type": "scatter",
         "x": [
          9.479316711425781,
          9.653427124023438,
          9.425118446350098,
          9.488802909851074,
          9.24403190612793,
          9.734759330749512,
          9.692900657653809,
          9.17481803894043,
          9.15796184539795,
          9.678789138793945,
          9.315672874450684
         ],
         "xaxis": "x",
         "y": [
          6.57230806350708,
          6.247796058654785,
          6.676022052764893,
          6.60506010055542,
          5.975368499755859,
          6.1992340087890625,
          6.485623836517334,
          6.192438125610352,
          6.250118732452393,
          6.515395164489746,
          6.422456741333008
         ],
         "yaxis": "y"
        },
        {
         "customdata": [
          [
           "jet propulsion laboratory"
          ],
          [
           "bigelow aerospace advanced space studies"
          ],
          [
           "air force rocket propulsion library"
          ],
          [
           "advanced deep space transport technology assessment group"
          ],
          [
           "air force astronautics laboratory"
          ],
          [
           "house science and astronautics committee"
          ],
          [
           "house select committee on astronautics and space exploration"
          ],
          [
           "to the stars academy"
          ],
          [
           "subcommittee on atmospheric phenomena"
          ]
         ],
         "hovertemplate": "cluster=32<br>x=%{x}<br>y=%{y}<br>node=%{customdata[0]}<extra></extra>",
         "legendgroup": "32",
         "marker": {
          "color": "#ab63fa",
          "symbol": "circle"
         },
         "mode": "markers",
         "name": "32",
         "orientation": "v",
         "showlegend": true,
         "type": "scatter",
         "x": [
          11.421340942382812,
          11.488412857055664,
          11.553394317626953,
          11.347420692443848,
          11.548815727233887,
          11.503755569458008,
          11.516741752624512,
          11.450238227844238,
          11.478841781616211
         ],
         "xaxis": "x",
         "y": [
          8.717904090881348,
          8.763611793518066,
          8.845212936401367,
          8.726420402526855,
          8.821045875549316,
          9.098885536193848,
          8.825562477111816,
          9.018474578857422,
          8.926261901855469
         ],
         "yaxis": "y"
        },
        {
         "customdata": [
          [
           "science applications international corporation"
          ],
          [
           "national security agency"
          ],
          [
           "nuclear security testing"
          ],
          [
           "osd public affairs"
          ],
          [
           "white house office of science and technology policy"
          ],
          [
           "opnav n2n6 public affairs"
          ],
          [
           "nobel prize"
          ],
          [
           "office of scientific intelligence"
          ],
          [
           "office of naval intelligence"
          ],
          [
           "national photographic interpretation center"
          ],
          [
           "national reconnaissance office"
          ],
          [
           "office of naval research"
          ],
          [
           "national institute of standards and technology"
          ],
          [
           "bureau of oceans and international environmental and scientific affairs"
          ],
          [
           "national press club"
          ],
          [
           "national science foundation"
          ],
          [
           "national nuclear security administration"
          ],
          [
           "science for peace and security"
          ],
          [
           "nsa"
          ],
          [
           "national security and international affairs division"
          ],
          [
           "office of special investigations"
          ],
          [
           "nasa associate administrator for space sciences"
          ],
          [
           "national weather service"
          ],
          [
           "national academy of sciences"
          ]
         ],
         "hovertemplate": "cluster=33<br>x=%{x}<br>y=%{y}<br>node=%{customdata[0]}<extra></extra>",
         "legendgroup": "33",
         "marker": {
          "color": "#FFA15A",
          "symbol": "circle"
         },
         "mode": "markers",
         "name": "33",
         "orientation": "v",
         "showlegend": true,
         "type": "scatter",
         "x": [
          11.484246253967285,
          11.317374229431152,
          11.912084579467773,
          11.58806324005127,
          11.399102210998535,
          11.581695556640625,
          11.430381774902344,
          11.613487243652344,
          11.713011741638184,
          11.670234680175781,
          11.735422134399414,
          11.856905937194824,
          11.421819686889648,
          11.589656829833984,
          11.624993324279785,
          11.319549560546875,
          11.476040840148926,
          11.580343246459961,
          11.118101119995117,
          11.421514511108398,
          11.614236831665039,
          11.243103981018066,
          11.330568313598633,
          11.462678909301758
         ],
         "xaxis": "x",
         "y": [
          9.712874412536621,
          9.552400588989258,
          9.514350891113281,
          9.730270385742188,
          9.969346046447754,
          9.714058876037598,
          9.3309326171875,
          10.038782119750977,
          9.786446571350098,
          9.487964630126953,
          9.5067720413208,
          9.601170539855957,
          9.412358283996582,
          9.965660095214844,
          9.544656753540039,
          9.439294815063477,
          9.554734230041504,
          9.92867660522461,
          9.436049461364746,
          9.7208890914917,
          10.136028289794922,
          9.836325645446777,
          9.36507797241211,
          9.37315559387207
         ],
         "yaxis": "y"
        },
        {
         "customdata": [
          [
           "mary elizabeth elliot"
          ],
          [
           "gerald k haines"
          ],
          [
           "walter horten"
          ],
          [
           "helen littrell"
          ],
          [
           "h r hillenkoetter"
          ],
          [
           "richard doty"
          ],
          [
           "richard helms"
          ],
          [
           "wackenhut"
          ],
          [
           "linda moulton howe"
          ],
          [
           "prince hansadam ii"
          ],
          [
           "gabrielle pettingell"
          ],
          [
           "art lundahl"
          ],
          [
           "hannes alfven"
          ],
          [
           "walter reed hospital"
          ],
          [
           "urner liddel"
          ],
          [
           "everett hineman"
          ],
          [
           "bernard haisch"
          ],
          [
           "catherine austin fitts"
          ],
          [
           "linda woodford"
          ],
          [
           "richard f haines"
          ],
          [
           "horten ho 299"
          ],
          [
           "dick haines"
          ],
          [
           "hal puthoff"
          ],
          [
           "noel hinners"
          ]
         ],
         "hovertemplate": "cluster=34<br>x=%{x}<br>y=%{y}<br>node=%{customdata[0]}<extra></extra>",
         "legendgroup": "34",
         "marker": {
          "color": "#19d3f3",
          "symbol": "circle"
         },
         "mode": "markers",
         "name": "34",
         "orientation": "v",
         "showlegend": true,
         "type": "scatter",
         "x": [
          10.316643714904785,
          10.210183143615723,
          9.773968696594238,
          10.297670364379883,
          9.740386962890625,
          10.503002166748047,
          10.13687801361084,
          9.758659362792969,
          10.432682991027832,
          9.91300106048584,
          10.492623329162598,
          10.036735534667969,
          9.862104415893555,
          9.769115447998047,
          10.036701202392578,
          9.892033576965332,
          10.028234481811523,
          10.460185050964355,
          10.345742225646973,
          10.116056442260742,
          9.810190200805664,
          10.270170211791992,
          9.842007637023926,
          9.772954940795898
         ],
         "xaxis": "x",
         "y": [
          2.8015782833099365,
          2.673839807510376,
          3.0596978664398193,
          2.7524123191833496,
          2.9635117053985596,
          2.936293840408325,
          2.6776340007781982,
          3.0646250247955322,
          2.716954231262207,
          3.02707576751709,
          2.938321828842163,
          2.7726831436157227,
          2.9709038734436035,
          2.8669893741607666,
          2.8813564777374268,
          2.6384940147399902,
          2.9675660133361816,
          2.761772871017456,
          2.625800371170044,
          2.6909213066101074,
          3.2046658992767334,
          2.6961474418640137,
          3.0383729934692383,
          2.7959299087524414
         ],
         "yaxis": "y"
        },
        {
         "customdata": [
          [
           "tx"
          ],
          [
           "nm"
          ],
          [
           "nv"
          ],
          [
           "matrix"
          ],
          [
           "rc"
          ],
          [
           "crypto clearance"
          ],
          [
           "npic"
          ],
          [
           "treat iv"
          ],
          [
           "ndi"
          ],
          [
           "klastv"
          ],
          [
           "nj"
          ],
          [
           "nc"
          ],
          [
           "drugs"
          ],
          [
           "nids"
          ]
         ],
         "hovertemplate": "cluster=35<br>x=%{x}<br>y=%{y}<br>node=%{customdata[0]}<extra></extra>",
         "legendgroup": "35",
         "marker": {
          "color": "#FF6692",
          "symbol": "circle"
         },
         "mode": "markers",
         "name": "35",
         "orientation": "v",
         "showlegend": true,
         "type": "scatter",
         "x": [
          10.213706016540527,
          10.171612739562988,
          10.18677043914795,
          10.142780303955078,
          9.965292930603027,
          10.445501327514648,
          10.372522354125977,
          10.27381420135498,
          10.469836235046387,
          10.45261287689209,
          10.129430770874023,
          10.106574058532715,
          10.357213973999023,
          10.588629722595215
         ],
         "xaxis": "x",
         "y": [
          5.488033771514893,
          5.327413082122803,
          5.370040416717529,
          5.422054767608643,
          5.39821720123291,
          5.384036064147949,
          5.233932018280029,
          5.362893581390381,
          5.2182230949401855,
          5.371151447296143,
          5.439480304718018,
          5.350278377532959,
          5.51652717590332,
          5.179825782775879
         ],
         "yaxis": "y"
        },
        {
         "customdata": [
          [
           "boscombe down"
          ],
          [
           "robert powell"
          ],
          [
           "bob bigelow"
          ],
          [
           "bob wood"
          ],
          [
           "robert emenegger"
          ],
          [
           "ray smith buchanan"
          ],
          [
           "bob oechsler"
          ],
          [
           "robert c byrd"
          ],
          [
           "robertson panel"
          ],
          [
           "ron blackburn"
          ],
          [
           "sen robert byrd"
          ],
          [
           "bobby ray inman"
          ],
          [
           "robert m wood"
          ],
          [
           "bob lazar"
          ],
          [
           "robert naka"
          ]
         ],
         "hovertemplate": "cluster=36<br>x=%{x}<br>y=%{y}<br>node=%{customdata[0]}<extra></extra>",
         "legendgroup": "36",
         "marker": {
          "color": "#B6E880",
          "symbol": "circle"
         },
         "mode": "markers",
         "name": "36",
         "orientation": "v",
         "showlegend": true,
         "type": "scatter",
         "x": [
          10.194175720214844,
          9.877776145935059,
          10.089095115661621,
          10.073803901672363,
          9.860751152038574,
          9.957098960876465,
          10.035469055175781,
          9.873062133789062,
          9.763474464416504,
          9.89365291595459,
          9.827542304992676,
          10.028261184692383,
          9.931292533874512,
          10.005270004272461,
          9.919371604919434
         ],
         "xaxis": "x",
         "y": [
          1.1205835342407227,
          0.8660362958908081,
          1.1107994318008423,
          0.9615711569786072,
          1.2885031700134277,
          0.8022732734680176,
          1.2074599266052246,
          0.844228208065033,
          0.8184428215026855,
          0.8033897876739502,
          0.8565845489501953,
          0.9494257569313049,
          0.9814648628234863,
          1.129352331161499,
          1.0350205898284912
         ],
         "yaxis": "y"
        },
        {
         "customdata": [
          [
           "eric davis"
          ],
          [
           "eric haseltine"
          ],
          [
           "eric a walker"
          ],
          [
           "eric weinstein"
          ],
          [
           "nick redfern"
          ],
          [
           "eric walker"
          ],
          [
           "eugene f yeates"
          ],
          [
           "amy eskridge"
          ]
         ],
         "hovertemplate": "cluster=37<br>x=%{x}<br>y=%{y}<br>node=%{customdata[0]}<extra></extra>",
         "legendgroup": "37",
         "marker": {
          "color": "#FF97FF",
          "symbol": "circle"
         },
         "mode": "markers",
         "name": "37",
         "orientation": "v",
         "showlegend": true,
         "type": "scatter",
         "x": [
          9.608915328979492,
          9.753829956054688,
          9.688255310058594,
          9.738810539245605,
          9.686767578125,
          9.729021072387695,
          9.844718933105469,
          9.658462524414062
         ],
         "xaxis": "x",
         "y": [
          2.0968427658081055,
          2.306264877319336,
          2.100550889968872,
          2.2244298458099365,
          2.3323302268981934,
          1.9845751523971558,
          2.145944595336914,
          2.073516368865967
         ],
         "yaxis": "y"
        },
        {
         "customdata": [
          [
           "cia"
          ],
          [
           "la"
          ],
          [
           "co"
          ],
          [
           "ga"
          ],
          [
           "kgfl"
          ],
          [
           "ca"
          ]
         ],
         "hovertemplate": "cluster=38<br>x=%{x}<br>y=%{y}<br>node=%{customdata[0]}<extra></extra>",
         "legendgroup": "38",
         "marker": {
          "color": "#FECB52",
          "symbol": "circle"
         },
         "mode": "markers",
         "name": "38",
         "orientation": "v",
         "showlegend": true,
         "type": "scatter",
         "x": [
          9.827515602111816,
          9.821138381958008,
          9.826277732849121,
          9.672666549682617,
          9.79922103881836,
          9.751832962036133
         ],
         "xaxis": "x",
         "y": [
          5.640522003173828,
          5.736121654510498,
          5.68251371383667,
          5.735454559326172,
          5.72714900970459,
          5.693694114685059
         ],
         "yaxis": "y"
        },
        {
         "customdata": [
          [
           "ekuk"
          ],
          [
           "anonymous"
          ],
          [
           "aec"
          ],
          [
           "sec"
          ],
          [
           "ames"
          ],
          [
           "arpa"
          ],
          [
           "pres"
          ],
          [
           "ak"
          ],
          [
           "ks"
          ],
          [
           "dist"
          ],
          [
           "classified"
          ],
          [
           "dia"
          ]
         ],
         "hovertemplate": "cluster=39<br>x=%{x}<br>y=%{y}<br>node=%{customdata[0]}<extra></extra>",
         "legendgroup": "39",
         "marker": {
          "color": "#636efa",
          "symbol": "circle"
         },
         "mode": "markers",
         "name": "39",
         "orientation": "v",
         "showlegend": true,
         "type": "scatter",
         "x": [
          10.144787788391113,
          10.101158142089844,
          9.98693561553955,
          10.047911643981934,
          10.004953384399414,
          10.116297721862793,
          10.066879272460938,
          10.113384246826172,
          10.137850761413574,
          10.045219421386719,
          10.037406921386719,
          10.190285682678223
         ],
         "xaxis": "x",
         "y": [
          5.850849628448486,
          5.98426628112793,
          5.943644046783447,
          5.925571918487549,
          6.035186290740967,
          5.893125534057617,
          5.882081031799316,
          5.910026550292969,
          5.822149276733398,
          5.691411018371582,
          5.832514762878418,
          5.835720539093018
         ],
         "yaxis": "y"
        },
        {
         "customdata": [
          [
           "thomas mahood"
          ],
          [
           "charles modlin"
          ],
          [
           "john podesta"
          ],
          [
           "arthur r mcquiddy"
          ],
          [
           "diana pasulka"
          ],
          [
           "steve millard"
          ],
          [
           "albert collins"
          ],
          [
           "william hamilton"
          ],
          [
           "john grace"
          ],
          [
           "jonathan campbell"
          ],
          [
           "henry deacon"
          ],
          [
           "mark sokol"
          ],
          [
           "michael lindemann"
          ],
          [
           "selman e graves"
          ],
          [
           "regina dugan"
          ],
          [
           "henry dakin"
          ],
          [
           "chuck wade"
          ],
          [
           "george schulgen"
          ],
          [
           "john greenwald"
          ],
          [
           "jeffrey w griffith"
          ],
          [
           "thomas wilson"
          ],
          [
           "dale graff"
          ],
          [
           "george knapp"
          ],
          [
           "john s herrington"
          ],
          [
           "john burroughs"
          ],
          [
           "paul f bennewitz"
          ],
          [
           "william lear"
          ],
          [
           "john w mccormack"
          ],
          [
           "william tompkins"
          ],
          [
           "larry lemke"
          ],
          [
           "bechtel corp"
          ],
          [
           "steven bechtel"
          ],
          [
           "john e brandenburg"
          ],
          [
           "cb scott jones"
          ],
          [
           "joshua n goldberg"
          ],
          [
           "john warner iv"
          ],
          [
           "jacob"
          ],
          [
           "janes defense"
          ],
          [
           "john negroponte"
          ],
          [
           "john lear"
          ],
          [
           "john schuessler"
          ],
          [
           "stephen lovekin"
          ],
          [
           "carl spaatz"
          ],
          [
           "jonathan weygandt"
          ],
          [
           "lear siegler corp"
          ],
          [
           "john warner iii"
          ],
          [
           "steven greer"
          ],
          [
           "johndale solem"
          ],
          [
           "john keel"
          ],
          [
           "john h gibbons"
          ],
          [
           "benjamin chidlaw"
          ],
          [
           "william draeger"
          ]
         ],
         "hovertemplate": "cluster=40<br>x=%{x}<br>y=%{y}<br>node=%{customdata[0]}<extra></extra>",
         "legendgroup": "40",
         "marker": {
          "color": "#EF553B",
          "symbol": "circle"
         },
         "mode": "markers",
         "name": "40",
         "orientation": "v",
         "showlegend": true,
         "type": "scatter",
         "x": [
          11.8825101852417,
          10.686184883117676,
          11.761364936828613,
          11.480842590332031,
          10.881668090820312,
          10.861852645874023,
          10.619006156921387,
          11.27318286895752,
          11.569815635681152,
          11.587774276733398,
          11.056428909301758,
          10.878479957580566,
          10.800692558288574,
          10.820978164672852,
          10.952563285827637,
          10.835346221923828,
          10.035930633544922,
          10.852009773254395,
          11.763888359069824,
          11.420446395874023,
          11.392160415649414,
          11.255610466003418,
          11.174434661865234,
          11.405932426452637,
          11.230728149414062,
          10.405942916870117,
          11.165213584899902,
          11.48697280883789,
          11.190146446228027,
          10.832776069641113,
          10.191547393798828,
          10.270342826843262,
          11.391130447387695,
          11.738167762756348,
          11.419376373291016,
          11.855389595031738,
          11.534276962280273,
          11.689468383789062,
          11.772847175598145,
          11.681853294372559,
          11.553361892700195,
          10.806365013122559,
          10.072160720825195,
          11.56640338897705,
          10.685137748718262,
          11.91051197052002,
          10.779219627380371,
          11.646492958068848,
          11.681924819946289,
          11.456527709960938,
          10.495814323425293,
          10.966106414794922
         ],
         "xaxis": "x",
         "y": [
          2.338069200515747,
          1.415260910987854,
          2.32035231590271,
          1.2477822303771973,
          2.640407085418701,
          1.2832356691360474,
          1.8073166608810425,
          1.7983169555664062,
          2.2220911979675293,
          1.7581266164779663,
          2.3574368953704834,
          1.3152941465377808,
          1.537609338760376,
          2.3093340396881104,
          2.5361478328704834,
          2.572965383529663,
          1.6947126388549805,
          1.7500945329666138,
          2.5051779747009277,
          1.863966941833496,
          1.8348846435546875,
          2.125241756439209,
          1.8764582872390747,
          2.257176637649536,
          2.2297282218933105,
          1.7853209972381592,
          1.921447515487671,
          1.5175163745880127,
          1.8560737371444702,
          1.4832382202148438,
          1.6450833082199097,
          1.710292935371399,
          2.264958620071411,
          1.6926779747009277,
          1.954025149345398,
          2.2560765743255615,
          1.8524088859558105,
          2.1712934970855713,
          2.3126413822174072,
          2.08921217918396,
          2.1972291469573975,
          1.7505426406860352,
          1.8248518705368042,
          1.893728494644165,
          1.7913264036178589,
          2.119030714035034,
          1.7054827213287354,
          2.215296506881714,
          1.8414887189865112,
          1.9679046869277954,
          1.6887133121490479,
          1.8398133516311646
         ],
         "yaxis": "y"
        },
        {
         "customdata": [
          [
           "christopher k mellon"
          ],
          [
           "colm keller"
          ],
          [
           "colm kelleher"
          ],
          [
           "christopher mellon"
          ],
          [
           "jb michaels"
          ],
          [
           "bruce maccabee"
          ],
          [
           "michael mckubre"
          ]
         ],
         "hovertemplate": "cluster=41<br>x=%{x}<br>y=%{y}<br>node=%{customdata[0]}<extra></extra>",
         "legendgroup": "41",
         "marker": {
          "color": "#00cc96",
          "symbol": "circle"
         },
         "mode": "markers",
         "name": "41",
         "orientation": "v",
         "showlegend": true,
         "type": "scatter",
         "x": [
          11.61133861541748,
          11.392308235168457,
          11.440485954284668,
          11.579434394836426,
          11.228829383850098,
          11.28911304473877,
          11.289254188537598
         ],
         "xaxis": "x",
         "y": [
          0.9604776501655579,
          0.9935874938964844,
          1.0784411430358887,
          0.9507911801338196,
          1.3398844003677368,
          1.0219370126724243,
          1.1060351133346558
         ],
         "yaxis": "y"
        }
       ],
       "layout": {
        "legend": {
         "title": {
          "text": "cluster"
         },
         "tracegroupgap": 0
        },
        "margin": {
         "t": 60
        },
        "template": {
         "data": {
          "bar": [
           {
            "error_x": {
             "color": "#2a3f5f"
            },
            "error_y": {
             "color": "#2a3f5f"
            },
            "marker": {
             "line": {
              "color": "#E5ECF6",
              "width": 0.5
             },
             "pattern": {
              "fillmode": "overlay",
              "size": 10,
              "solidity": 0.2
             }
            },
            "type": "bar"
           }
          ],
          "barpolar": [
           {
            "marker": {
             "line": {
              "color": "#E5ECF6",
              "width": 0.5
             },
             "pattern": {
              "fillmode": "overlay",
              "size": 10,
              "solidity": 0.2
             }
            },
            "type": "barpolar"
           }
          ],
          "carpet": [
           {
            "aaxis": {
             "endlinecolor": "#2a3f5f",
             "gridcolor": "white",
             "linecolor": "white",
             "minorgridcolor": "white",
             "startlinecolor": "#2a3f5f"
            },
            "baxis": {
             "endlinecolor": "#2a3f5f",
             "gridcolor": "white",
             "linecolor": "white",
             "minorgridcolor": "white",
             "startlinecolor": "#2a3f5f"
            },
            "type": "carpet"
           }
          ],
          "choropleth": [
           {
            "colorbar": {
             "outlinewidth": 0,
             "ticks": ""
            },
            "type": "choropleth"
           }
          ],
          "contour": [
           {
            "colorbar": {
             "outlinewidth": 0,
             "ticks": ""
            },
            "colorscale": [
             [
              0,
              "#0d0887"
             ],
             [
              0.1111111111111111,
              "#46039f"
             ],
             [
              0.2222222222222222,
              "#7201a8"
             ],
             [
              0.3333333333333333,
              "#9c179e"
             ],
             [
              0.4444444444444444,
              "#bd3786"
             ],
             [
              0.5555555555555556,
              "#d8576b"
             ],
             [
              0.6666666666666666,
              "#ed7953"
             ],
             [
              0.7777777777777778,
              "#fb9f3a"
             ],
             [
              0.8888888888888888,
              "#fdca26"
             ],
             [
              1,
              "#f0f921"
             ]
            ],
            "type": "contour"
           }
          ],
          "contourcarpet": [
           {
            "colorbar": {
             "outlinewidth": 0,
             "ticks": ""
            },
            "type": "contourcarpet"
           }
          ],
          "heatmap": [
           {
            "colorbar": {
             "outlinewidth": 0,
             "ticks": ""
            },
            "colorscale": [
             [
              0,
              "#0d0887"
             ],
             [
              0.1111111111111111,
              "#46039f"
             ],
             [
              0.2222222222222222,
              "#7201a8"
             ],
             [
              0.3333333333333333,
              "#9c179e"
             ],
             [
              0.4444444444444444,
              "#bd3786"
             ],
             [
              0.5555555555555556,
              "#d8576b"
             ],
             [
              0.6666666666666666,
              "#ed7953"
             ],
             [
              0.7777777777777778,
              "#fb9f3a"
             ],
             [
              0.8888888888888888,
              "#fdca26"
             ],
             [
              1,
              "#f0f921"
             ]
            ],
            "type": "heatmap"
           }
          ],
          "heatmapgl": [
           {
            "colorbar": {
             "outlinewidth": 0,
             "ticks": ""
            },
            "colorscale": [
             [
              0,
              "#0d0887"
             ],
             [
              0.1111111111111111,
              "#46039f"
             ],
             [
              0.2222222222222222,
              "#7201a8"
             ],
             [
              0.3333333333333333,
              "#9c179e"
             ],
             [
              0.4444444444444444,
              "#bd3786"
             ],
             [
              0.5555555555555556,
              "#d8576b"
             ],
             [
              0.6666666666666666,
              "#ed7953"
             ],
             [
              0.7777777777777778,
              "#fb9f3a"
             ],
             [
              0.8888888888888888,
              "#fdca26"
             ],
             [
              1,
              "#f0f921"
             ]
            ],
            "type": "heatmapgl"
           }
          ],
          "histogram": [
           {
            "marker": {
             "pattern": {
              "fillmode": "overlay",
              "size": 10,
              "solidity": 0.2
             }
            },
            "type": "histogram"
           }
          ],
          "histogram2d": [
           {
            "colorbar": {
             "outlinewidth": 0,
             "ticks": ""
            },
            "colorscale": [
             [
              0,
              "#0d0887"
             ],
             [
              0.1111111111111111,
              "#46039f"
             ],
             [
              0.2222222222222222,
              "#7201a8"
             ],
             [
              0.3333333333333333,
              "#9c179e"
             ],
             [
              0.4444444444444444,
              "#bd3786"
             ],
             [
              0.5555555555555556,
              "#d8576b"
             ],
             [
              0.6666666666666666,
              "#ed7953"
             ],
             [
              0.7777777777777778,
              "#fb9f3a"
             ],
             [
              0.8888888888888888,
              "#fdca26"
             ],
             [
              1,
              "#f0f921"
             ]
            ],
            "type": "histogram2d"
           }
          ],
          "histogram2dcontour": [
           {
            "colorbar": {
             "outlinewidth": 0,
             "ticks": ""
            },
            "colorscale": [
             [
              0,
              "#0d0887"
             ],
             [
              0.1111111111111111,
              "#46039f"
             ],
             [
              0.2222222222222222,
              "#7201a8"
             ],
             [
              0.3333333333333333,
              "#9c179e"
             ],
             [
              0.4444444444444444,
              "#bd3786"
             ],
             [
              0.5555555555555556,
              "#d8576b"
             ],
             [
              0.6666666666666666,
              "#ed7953"
             ],
             [
              0.7777777777777778,
              "#fb9f3a"
             ],
             [
              0.8888888888888888,
              "#fdca26"
             ],
             [
              1,
              "#f0f921"
             ]
            ],
            "type": "histogram2dcontour"
           }
          ],
          "mesh3d": [
           {
            "colorbar": {
             "outlinewidth": 0,
             "ticks": ""
            },
            "type": "mesh3d"
           }
          ],
          "parcoords": [
           {
            "line": {
             "colorbar": {
              "outlinewidth": 0,
              "ticks": ""
             }
            },
            "type": "parcoords"
           }
          ],
          "pie": [
           {
            "automargin": true,
            "type": "pie"
           }
          ],
          "scatter": [
           {
            "fillpattern": {
             "fillmode": "overlay",
             "size": 10,
             "solidity": 0.2
            },
            "type": "scatter"
           }
          ],
          "scatter3d": [
           {
            "line": {
             "colorbar": {
              "outlinewidth": 0,
              "ticks": ""
             }
            },
            "marker": {
             "colorbar": {
              "outlinewidth": 0,
              "ticks": ""
             }
            },
            "type": "scatter3d"
           }
          ],
          "scattercarpet": [
           {
            "marker": {
             "colorbar": {
              "outlinewidth": 0,
              "ticks": ""
             }
            },
            "type": "scattercarpet"
           }
          ],
          "scattergeo": [
           {
            "marker": {
             "colorbar": {
              "outlinewidth": 0,
              "ticks": ""
             }
            },
            "type": "scattergeo"
           }
          ],
          "scattergl": [
           {
            "marker": {
             "colorbar": {
              "outlinewidth": 0,
              "ticks": ""
             }
            },
            "type": "scattergl"
           }
          ],
          "scattermapbox": [
           {
            "marker": {
             "colorbar": {
              "outlinewidth": 0,
              "ticks": ""
             }
            },
            "type": "scattermapbox"
           }
          ],
          "scatterpolar": [
           {
            "marker": {
             "colorbar": {
              "outlinewidth": 0,
              "ticks": ""
             }
            },
            "type": "scatterpolar"
           }
          ],
          "scatterpolargl": [
           {
            "marker": {
             "colorbar": {
              "outlinewidth": 0,
              "ticks": ""
             }
            },
            "type": "scatterpolargl"
           }
          ],
          "scatterternary": [
           {
            "marker": {
             "colorbar": {
              "outlinewidth": 0,
              "ticks": ""
             }
            },
            "type": "scatterternary"
           }
          ],
          "surface": [
           {
            "colorbar": {
             "outlinewidth": 0,
             "ticks": ""
            },
            "colorscale": [
             [
              0,
              "#0d0887"
             ],
             [
              0.1111111111111111,
              "#46039f"
             ],
             [
              0.2222222222222222,
              "#7201a8"
             ],
             [
              0.3333333333333333,
              "#9c179e"
             ],
             [
              0.4444444444444444,
              "#bd3786"
             ],
             [
              0.5555555555555556,
              "#d8576b"
             ],
             [
              0.6666666666666666,
              "#ed7953"
             ],
             [
              0.7777777777777778,
              "#fb9f3a"
             ],
             [
              0.8888888888888888,
              "#fdca26"
             ],
             [
              1,
              "#f0f921"
             ]
            ],
            "type": "surface"
           }
          ],
          "table": [
           {
            "cells": {
             "fill": {
              "color": "#EBF0F8"
             },
             "line": {
              "color": "white"
             }
            },
            "header": {
             "fill": {
              "color": "#C8D4E3"
             },
             "line": {
              "color": "white"
             }
            },
            "type": "table"
           }
          ]
         },
         "layout": {
          "annotationdefaults": {
           "arrowcolor": "#2a3f5f",
           "arrowhead": 0,
           "arrowwidth": 1
          },
          "autotypenumbers": "strict",
          "coloraxis": {
           "colorbar": {
            "outlinewidth": 0,
            "ticks": ""
           }
          },
          "colorscale": {
           "diverging": [
            [
             0,
             "#8e0152"
            ],
            [
             0.1,
             "#c51b7d"
            ],
            [
             0.2,
             "#de77ae"
            ],
            [
             0.3,
             "#f1b6da"
            ],
            [
             0.4,
             "#fde0ef"
            ],
            [
             0.5,
             "#f7f7f7"
            ],
            [
             0.6,
             "#e6f5d0"
            ],
            [
             0.7,
             "#b8e186"
            ],
            [
             0.8,
             "#7fbc41"
            ],
            [
             0.9,
             "#4d9221"
            ],
            [
             1,
             "#276419"
            ]
           ],
           "sequential": [
            [
             0,
             "#0d0887"
            ],
            [
             0.1111111111111111,
             "#46039f"
            ],
            [
             0.2222222222222222,
             "#7201a8"
            ],
            [
             0.3333333333333333,
             "#9c179e"
            ],
            [
             0.4444444444444444,
             "#bd3786"
            ],
            [
             0.5555555555555556,
             "#d8576b"
            ],
            [
             0.6666666666666666,
             "#ed7953"
            ],
            [
             0.7777777777777778,
             "#fb9f3a"
            ],
            [
             0.8888888888888888,
             "#fdca26"
            ],
            [
             1,
             "#f0f921"
            ]
           ],
           "sequentialminus": [
            [
             0,
             "#0d0887"
            ],
            [
             0.1111111111111111,
             "#46039f"
            ],
            [
             0.2222222222222222,
             "#7201a8"
            ],
            [
             0.3333333333333333,
             "#9c179e"
            ],
            [
             0.4444444444444444,
             "#bd3786"
            ],
            [
             0.5555555555555556,
             "#d8576b"
            ],
            [
             0.6666666666666666,
             "#ed7953"
            ],
            [
             0.7777777777777778,
             "#fb9f3a"
            ],
            [
             0.8888888888888888,
             "#fdca26"
            ],
            [
             1,
             "#f0f921"
            ]
           ]
          },
          "colorway": [
           "#636efa",
           "#EF553B",
           "#00cc96",
           "#ab63fa",
           "#FFA15A",
           "#19d3f3",
           "#FF6692",
           "#B6E880",
           "#FF97FF",
           "#FECB52"
          ],
          "font": {
           "color": "#2a3f5f"
          },
          "geo": {
           "bgcolor": "white",
           "lakecolor": "white",
           "landcolor": "#E5ECF6",
           "showlakes": true,
           "showland": true,
           "subunitcolor": "white"
          },
          "hoverlabel": {
           "align": "left"
          },
          "hovermode": "closest",
          "mapbox": {
           "style": "light"
          },
          "paper_bgcolor": "white",
          "plot_bgcolor": "#E5ECF6",
          "polar": {
           "angularaxis": {
            "gridcolor": "white",
            "linecolor": "white",
            "ticks": ""
           },
           "bgcolor": "#E5ECF6",
           "radialaxis": {
            "gridcolor": "white",
            "linecolor": "white",
            "ticks": ""
           }
          },
          "scene": {
           "xaxis": {
            "backgroundcolor": "#E5ECF6",
            "gridcolor": "white",
            "gridwidth": 2,
            "linecolor": "white",
            "showbackground": true,
            "ticks": "",
            "zerolinecolor": "white"
           },
           "yaxis": {
            "backgroundcolor": "#E5ECF6",
            "gridcolor": "white",
            "gridwidth": 2,
            "linecolor": "white",
            "showbackground": true,
            "ticks": "",
            "zerolinecolor": "white"
           },
           "zaxis": {
            "backgroundcolor": "#E5ECF6",
            "gridcolor": "white",
            "gridwidth": 2,
            "linecolor": "white",
            "showbackground": true,
            "ticks": "",
            "zerolinecolor": "white"
           }
          },
          "shapedefaults": {
           "line": {
            "color": "#2a3f5f"
           }
          },
          "ternary": {
           "aaxis": {
            "gridcolor": "white",
            "linecolor": "white",
            "ticks": ""
           },
           "baxis": {
            "gridcolor": "white",
            "linecolor": "white",
            "ticks": ""
           },
           "bgcolor": "#E5ECF6",
           "caxis": {
            "gridcolor": "white",
            "linecolor": "white",
            "ticks": ""
           }
          },
          "title": {
           "x": 0.05
          },
          "xaxis": {
           "automargin": true,
           "gridcolor": "white",
           "linecolor": "white",
           "ticks": "",
           "title": {
            "standoff": 15
           },
           "zerolinecolor": "white",
           "zerolinewidth": 2
          },
          "yaxis": {
           "automargin": true,
           "gridcolor": "white",
           "linecolor": "white",
           "ticks": "",
           "title": {
            "standoff": 15
           },
           "zerolinecolor": "white",
           "zerolinewidth": 2
          }
         }
        },
        "xaxis": {
         "anchor": "y",
         "domain": [
          0,
          1
         ],
         "title": {
          "text": "x"
         }
        },
        "yaxis": {
         "anchor": "x",
         "domain": [
          0,
          1
         ],
         "title": {
          "text": "y"
         }
        }
       }
      }
     },
     "metadata": {},
     "output_type": "display_data"
    }
   ],
   "source": [
    "#lets use hdbscan to cluster the nodes\n",
    "clusterer = hdbscan.HDBSCAN(min_cluster_size=5, min_samples=5, metric='euclidean')\n",
    "clusterer.fit(embedding)\n",
    "nodes_df['cluster'] = clusterer.labels_\n",
    "#make the clusters categorical \n",
    "nodes_df['cluster'] = nodes_df['cluster'].astype('category')\n",
    "#sort values by cluster\n",
    "nodes_df = nodes_df.sort_values(by='cluster')\n",
    "\n",
    "nodes_df['cluster'].value_counts()\n",
    "\n",
    "#lets plot the clusters\n",
    "fig = px.scatter(nodes_df, x=\"x\", y=\"y\", color=\"cluster\", hover_data=['node'])\n",
    "fig.show()"
   ]
  },
  {
   "attachments": {},
   "cell_type": "markdown",
   "metadata": {},
   "source": [
    "We could have been more strict in the HDBSCAN to get less groups, but my goal with this exercise is to sort based on group and it will allow me to more quickly assign the types for each node. We can really clearly see dates in its own cluster and all locations are more or less in one place, and many of the things that I would define as \"objects\" or \"technologies\" or \"concepts\" are what makes up some of the noise. We should also be able to much more quickly identify duplicates within our data. There are automated methods to go about cleaning this data, but I think it will be best to just comb through the 875 nodes.\n",
    "\n",
    "SO I will make a csv and I am going to sort by cluster and then I am going to assign the following labels:\n",
    "\n",
    "'program'  \n",
    "'person'  \n",
    "'position'  \n",
    "'publication'    \n",
    "'event'  \n",
    "'place'  \n",
    "'concept'  \n",
    "'organization'  \n",
    "'group'  \n",
    "'date'  \n",
    "'civilian_contractor'  \n",
    "'object'  \n",
    "'technology'  "
   ]
  },
  {
   "cell_type": "code",
   "execution_count": 31,
   "metadata": {},
   "outputs": [
    {
     "data": {
      "text/html": [
       "<div>\n",
       "<style scoped>\n",
       "    .dataframe tbody tr th:only-of-type {\n",
       "        vertical-align: middle;\n",
       "    }\n",
       "\n",
       "    .dataframe tbody tr th {\n",
       "        vertical-align: top;\n",
       "    }\n",
       "\n",
       "    .dataframe thead th {\n",
       "        text-align: right;\n",
       "    }\n",
       "</style>\n",
       "<table border=\"1\" class=\"dataframe\">\n",
       "  <thead>\n",
       "    <tr style=\"text-align: right;\">\n",
       "      <th></th>\n",
       "      <th>node</th>\n",
       "      <th>n_tokens</th>\n",
       "      <th>embedding</th>\n",
       "      <th>x</th>\n",
       "      <th>y</th>\n",
       "      <th>cluster</th>\n",
       "    </tr>\n",
       "  </thead>\n",
       "  <tbody>\n",
       "    <tr>\n",
       "      <th>0</th>\n",
       "      <td>roswell army air field</td>\n",
       "      <td>6</td>\n",
       "      <td>[-0.022709418088197708, -0.01616789400577545, ...</td>\n",
       "      <td>14.254712</td>\n",
       "      <td>6.506034</td>\n",
       "      <td>-1</td>\n",
       "    </tr>\n",
       "    <tr>\n",
       "      <th>294</th>\n",
       "      <td>us</td>\n",
       "      <td>1</td>\n",
       "      <td>[0.014804207719862461, -0.02596471831202507, -...</td>\n",
       "      <td>10.402611</td>\n",
       "      <td>6.016804</td>\n",
       "      <td>-1</td>\n",
       "    </tr>\n",
       "    <tr>\n",
       "      <th>291</th>\n",
       "      <td>ernst steinhoff</td>\n",
       "      <td>5</td>\n",
       "      <td>[-0.006640342995524406, -0.014996306970715523,...</td>\n",
       "      <td>10.166992</td>\n",
       "      <td>1.933433</td>\n",
       "      <td>-1</td>\n",
       "    </tr>\n",
       "    <tr>\n",
       "      <th>602</th>\n",
       "      <td>renaissance technologies llc</td>\n",
       "      <td>5</td>\n",
       "      <td>[-0.01974639855325222, -0.010008861310780048, ...</td>\n",
       "      <td>12.475938</td>\n",
       "      <td>8.346830</td>\n",
       "      <td>-1</td>\n",
       "    </tr>\n",
       "    <tr>\n",
       "      <th>604</th>\n",
       "      <td>roswell nm</td>\n",
       "      <td>4</td>\n",
       "      <td>[-0.011155695654451847, 0.005066249053925276, ...</td>\n",
       "      <td>14.372659</td>\n",
       "      <td>6.421566</td>\n",
       "      <td>-1</td>\n",
       "    </tr>\n",
       "    <tr>\n",
       "      <th>...</th>\n",
       "      <td>...</td>\n",
       "      <td>...</td>\n",
       "      <td>...</td>\n",
       "      <td>...</td>\n",
       "      <td>...</td>\n",
       "      <td>...</td>\n",
       "    </tr>\n",
       "    <tr>\n",
       "      <th>478</th>\n",
       "      <td>colm kelleher</td>\n",
       "      <td>4</td>\n",
       "      <td>[-0.017438633367419243, -0.005774077959358692,...</td>\n",
       "      <td>11.440486</td>\n",
       "      <td>1.078441</td>\n",
       "      <td>41</td>\n",
       "    </tr>\n",
       "    <tr>\n",
       "      <th>519</th>\n",
       "      <td>christopher mellon</td>\n",
       "      <td>4</td>\n",
       "      <td>[-0.02305280975997448, -0.01520328689366579, -...</td>\n",
       "      <td>11.579434</td>\n",
       "      <td>0.950791</td>\n",
       "      <td>41</td>\n",
       "    </tr>\n",
       "    <tr>\n",
       "      <th>736</th>\n",
       "      <td>jb michaels</td>\n",
       "      <td>4</td>\n",
       "      <td>[-0.03838802129030228, -0.009342336095869541, ...</td>\n",
       "      <td>11.228829</td>\n",
       "      <td>1.339884</td>\n",
       "      <td>41</td>\n",
       "    </tr>\n",
       "    <tr>\n",
       "      <th>313</th>\n",
       "      <td>bruce maccabee</td>\n",
       "      <td>5</td>\n",
       "      <td>[-0.040478598326444626, -0.014333268627524376,...</td>\n",
       "      <td>11.289113</td>\n",
       "      <td>1.021937</td>\n",
       "      <td>41</td>\n",
       "    </tr>\n",
       "    <tr>\n",
       "      <th>384</th>\n",
       "      <td>michael mckubre</td>\n",
       "      <td>5</td>\n",
       "      <td>[-0.012415871024131775, -0.025436723604798317,...</td>\n",
       "      <td>11.289254</td>\n",
       "      <td>1.106035</td>\n",
       "      <td>41</td>\n",
       "    </tr>\n",
       "  </tbody>\n",
       "</table>\n",
       "<p>874 rows × 6 columns</p>\n",
       "</div>"
      ],
      "text/plain": [
       "                             node  n_tokens  \\\n",
       "0          roswell army air field         6   \n",
       "294                            us         1   \n",
       "291               ernst steinhoff         5   \n",
       "602  renaissance technologies llc         5   \n",
       "604                    roswell nm         4   \n",
       "..                            ...       ...   \n",
       "478                 colm kelleher         4   \n",
       "519            christopher mellon         4   \n",
       "736                   jb michaels         4   \n",
       "313                bruce maccabee         5   \n",
       "384               michael mckubre         5   \n",
       "\n",
       "                                             embedding          x         y  \\\n",
       "0    [-0.022709418088197708, -0.01616789400577545, ...  14.254712  6.506034   \n",
       "294  [0.014804207719862461, -0.02596471831202507, -...  10.402611  6.016804   \n",
       "291  [-0.006640342995524406, -0.014996306970715523,...  10.166992  1.933433   \n",
       "602  [-0.01974639855325222, -0.010008861310780048, ...  12.475938  8.346830   \n",
       "604  [-0.011155695654451847, 0.005066249053925276, ...  14.372659  6.421566   \n",
       "..                                                 ...        ...       ...   \n",
       "478  [-0.017438633367419243, -0.005774077959358692,...  11.440486  1.078441   \n",
       "519  [-0.02305280975997448, -0.01520328689366579, -...  11.579434  0.950791   \n",
       "736  [-0.03838802129030228, -0.009342336095869541, ...  11.228829  1.339884   \n",
       "313  [-0.040478598326444626, -0.014333268627524376,...  11.289113  1.021937   \n",
       "384  [-0.012415871024131775, -0.025436723604798317,...  11.289254  1.106035   \n",
       "\n",
       "    cluster  \n",
       "0        -1  \n",
       "294      -1  \n",
       "291      -1  \n",
       "602      -1  \n",
       "604      -1  \n",
       "..      ...  \n",
       "478      41  \n",
       "519      41  \n",
       "736      41  \n",
       "313      41  \n",
       "384      41  \n",
       "\n",
       "[874 rows x 6 columns]"
      ]
     },
     "execution_count": 31,
     "metadata": {},
     "output_type": "execute_result"
    }
   ],
   "source": [
    "nodes_df"
   ]
  },
  {
   "cell_type": "code",
   "execution_count": 32,
   "metadata": {},
   "outputs": [],
   "source": [
    "#export to a csv\n",
    "nodes_df.to_csv(r'..\\data\\nodes.csv', index=False)"
   ]
  },
  {
   "attachments": {},
   "cell_type": "markdown",
   "metadata": {},
   "source": [
    "......did some manual mapping\n"
   ]
  },
  {
   "cell_type": "code",
   "execution_count": 34,
   "metadata": {},
   "outputs": [],
   "source": [
    "#read in the fixed_nodes - noes.csv file\n",
    "fixed_nodes = pd.read_csv(r'..\\data\\fixed_nodes - nodes.csv')"
   ]
  },
  {
   "cell_type": "code",
   "execution_count": 38,
   "metadata": {},
   "outputs": [],
   "source": [
    "#join fixed_nodes to nodes_df\n",
    "nodes_df = nodes_df.merge(fixed_nodes[['node','type','real_value']], on='node', how='left')"
   ]
  },
  {
   "cell_type": "code",
   "execution_count": 39,
   "metadata": {},
   "outputs": [
    {
     "data": {
      "text/html": [
       "<div>\n",
       "<style scoped>\n",
       "    .dataframe tbody tr th:only-of-type {\n",
       "        vertical-align: middle;\n",
       "    }\n",
       "\n",
       "    .dataframe tbody tr th {\n",
       "        vertical-align: top;\n",
       "    }\n",
       "\n",
       "    .dataframe thead th {\n",
       "        text-align: right;\n",
       "    }\n",
       "</style>\n",
       "<table border=\"1\" class=\"dataframe\">\n",
       "  <thead>\n",
       "    <tr style=\"text-align: right;\">\n",
       "      <th></th>\n",
       "      <th>node</th>\n",
       "      <th>n_tokens</th>\n",
       "      <th>embedding</th>\n",
       "      <th>x</th>\n",
       "      <th>y</th>\n",
       "      <th>cluster</th>\n",
       "      <th>type</th>\n",
       "      <th>real_value</th>\n",
       "    </tr>\n",
       "  </thead>\n",
       "  <tbody>\n",
       "    <tr>\n",
       "      <th>0</th>\n",
       "      <td>roswell army air field</td>\n",
       "      <td>6</td>\n",
       "      <td>[-0.022709418088197708, -0.01616789400577545, ...</td>\n",
       "      <td>14.254712</td>\n",
       "      <td>6.506034</td>\n",
       "      <td>-1</td>\n",
       "      <td>place</td>\n",
       "      <td>NaN</td>\n",
       "    </tr>\n",
       "    <tr>\n",
       "      <th>1</th>\n",
       "      <td>us</td>\n",
       "      <td>1</td>\n",
       "      <td>[0.014804207719862461, -0.02596471831202507, -...</td>\n",
       "      <td>10.402611</td>\n",
       "      <td>6.016804</td>\n",
       "      <td>-1</td>\n",
       "      <td>place</td>\n",
       "      <td>NaN</td>\n",
       "    </tr>\n",
       "    <tr>\n",
       "      <th>2</th>\n",
       "      <td>ernst steinhoff</td>\n",
       "      <td>5</td>\n",
       "      <td>[-0.006640342995524406, -0.014996306970715523,...</td>\n",
       "      <td>10.166992</td>\n",
       "      <td>1.933433</td>\n",
       "      <td>-1</td>\n",
       "      <td>person</td>\n",
       "      <td>NaN</td>\n",
       "    </tr>\n",
       "    <tr>\n",
       "      <th>3</th>\n",
       "      <td>renaissance technologies llc</td>\n",
       "      <td>5</td>\n",
       "      <td>[-0.01974639855325222, -0.010008861310780048, ...</td>\n",
       "      <td>12.475938</td>\n",
       "      <td>8.346830</td>\n",
       "      <td>-1</td>\n",
       "      <td>organization</td>\n",
       "      <td>NaN</td>\n",
       "    </tr>\n",
       "    <tr>\n",
       "      <th>4</th>\n",
       "      <td>roswell nm</td>\n",
       "      <td>4</td>\n",
       "      <td>[-0.011155695654451847, 0.005066249053925276, ...</td>\n",
       "      <td>14.372659</td>\n",
       "      <td>6.421566</td>\n",
       "      <td>-1</td>\n",
       "      <td>place</td>\n",
       "      <td>roswell nm</td>\n",
       "    </tr>\n",
       "    <tr>\n",
       "      <th>...</th>\n",
       "      <td>...</td>\n",
       "      <td>...</td>\n",
       "      <td>...</td>\n",
       "      <td>...</td>\n",
       "      <td>...</td>\n",
       "      <td>...</td>\n",
       "      <td>...</td>\n",
       "      <td>...</td>\n",
       "    </tr>\n",
       "    <tr>\n",
       "      <th>869</th>\n",
       "      <td>colm kelleher</td>\n",
       "      <td>4</td>\n",
       "      <td>[-0.017438633367419243, -0.005774077959358692,...</td>\n",
       "      <td>11.440486</td>\n",
       "      <td>1.078441</td>\n",
       "      <td>41</td>\n",
       "      <td>person</td>\n",
       "      <td>NaN</td>\n",
       "    </tr>\n",
       "    <tr>\n",
       "      <th>870</th>\n",
       "      <td>christopher mellon</td>\n",
       "      <td>4</td>\n",
       "      <td>[-0.02305280975997448, -0.01520328689366579, -...</td>\n",
       "      <td>11.579434</td>\n",
       "      <td>0.950791</td>\n",
       "      <td>41</td>\n",
       "      <td>person</td>\n",
       "      <td>NaN</td>\n",
       "    </tr>\n",
       "    <tr>\n",
       "      <th>871</th>\n",
       "      <td>jb michaels</td>\n",
       "      <td>4</td>\n",
       "      <td>[-0.03838802129030228, -0.009342336095869541, ...</td>\n",
       "      <td>11.228829</td>\n",
       "      <td>1.339884</td>\n",
       "      <td>41</td>\n",
       "      <td>person</td>\n",
       "      <td>NaN</td>\n",
       "    </tr>\n",
       "    <tr>\n",
       "      <th>872</th>\n",
       "      <td>bruce maccabee</td>\n",
       "      <td>5</td>\n",
       "      <td>[-0.040478598326444626, -0.014333268627524376,...</td>\n",
       "      <td>11.289113</td>\n",
       "      <td>1.021937</td>\n",
       "      <td>41</td>\n",
       "      <td>person</td>\n",
       "      <td>NaN</td>\n",
       "    </tr>\n",
       "    <tr>\n",
       "      <th>873</th>\n",
       "      <td>michael mckubre</td>\n",
       "      <td>5</td>\n",
       "      <td>[-0.012415871024131775, -0.025436723604798317,...</td>\n",
       "      <td>11.289254</td>\n",
       "      <td>1.106035</td>\n",
       "      <td>41</td>\n",
       "      <td>person</td>\n",
       "      <td>NaN</td>\n",
       "    </tr>\n",
       "  </tbody>\n",
       "</table>\n",
       "<p>874 rows × 8 columns</p>\n",
       "</div>"
      ],
      "text/plain": [
       "                             node  n_tokens  \\\n",
       "0          roswell army air field         6   \n",
       "1                              us         1   \n",
       "2                 ernst steinhoff         5   \n",
       "3    renaissance technologies llc         5   \n",
       "4                      roswell nm         4   \n",
       "..                            ...       ...   \n",
       "869                 colm kelleher         4   \n",
       "870            christopher mellon         4   \n",
       "871                   jb michaels         4   \n",
       "872                bruce maccabee         5   \n",
       "873               michael mckubre         5   \n",
       "\n",
       "                                             embedding          x         y  \\\n",
       "0    [-0.022709418088197708, -0.01616789400577545, ...  14.254712  6.506034   \n",
       "1    [0.014804207719862461, -0.02596471831202507, -...  10.402611  6.016804   \n",
       "2    [-0.006640342995524406, -0.014996306970715523,...  10.166992  1.933433   \n",
       "3    [-0.01974639855325222, -0.010008861310780048, ...  12.475938  8.346830   \n",
       "4    [-0.011155695654451847, 0.005066249053925276, ...  14.372659  6.421566   \n",
       "..                                                 ...        ...       ...   \n",
       "869  [-0.017438633367419243, -0.005774077959358692,...  11.440486  1.078441   \n",
       "870  [-0.02305280975997448, -0.01520328689366579, -...  11.579434  0.950791   \n",
       "871  [-0.03838802129030228, -0.009342336095869541, ...  11.228829  1.339884   \n",
       "872  [-0.040478598326444626, -0.014333268627524376,...  11.289113  1.021937   \n",
       "873  [-0.012415871024131775, -0.025436723604798317,...  11.289254  1.106035   \n",
       "\n",
       "    cluster          type  real_value  \n",
       "0        -1         place         NaN  \n",
       "1        -1         place         NaN  \n",
       "2        -1        person         NaN  \n",
       "3        -1  organization         NaN  \n",
       "4        -1         place  roswell nm  \n",
       "..      ...           ...         ...  \n",
       "869      41        person         NaN  \n",
       "870      41        person         NaN  \n",
       "871      41        person         NaN  \n",
       "872      41        person         NaN  \n",
       "873      41        person         NaN  \n",
       "\n",
       "[874 rows x 8 columns]"
      ]
     },
     "execution_count": 39,
     "metadata": {},
     "output_type": "execute_result"
    }
   ],
   "source": [
    "nodes_df"
   ]
  },
  {
   "attachments": {},
   "cell_type": "markdown",
   "metadata": {},
   "source": [
    "I realize now we will be unable to fit it back to the original dataset because we removed stuff and didnt keep the original :P "
   ]
  },
  {
   "cell_type": "code",
   "execution_count": 41,
   "metadata": {},
   "outputs": [
    {
     "data": {
      "text/html": [
       "<div>\n",
       "<style scoped>\n",
       "    .dataframe tbody tr th:only-of-type {\n",
       "        vertical-align: middle;\n",
       "    }\n",
       "\n",
       "    .dataframe tbody tr th {\n",
       "        vertical-align: top;\n",
       "    }\n",
       "\n",
       "    .dataframe thead th {\n",
       "        text-align: right;\n",
       "    }\n",
       "</style>\n",
       "<table border=\"1\" class=\"dataframe\">\n",
       "  <thead>\n",
       "    <tr style=\"text-align: right;\">\n",
       "      <th></th>\n",
       "      <th>head</th>\n",
       "      <th>type</th>\n",
       "      <th>tail</th>\n",
       "    </tr>\n",
       "  </thead>\n",
       "  <tbody>\n",
       "    <tr>\n",
       "      <th>0</th>\n",
       "      <td>roswell_army_air_field</td>\n",
       "      <td>place_served_by_transport_hub</td>\n",
       "      <td>roswell_nm</td>\n",
       "    </tr>\n",
       "    <tr>\n",
       "      <th>1</th>\n",
       "      <td>roswell_morning_dispatch</td>\n",
       "      <td>editor</td>\n",
       "      <td>arthur_r_mcquiddy</td>\n",
       "    </tr>\n",
       "    <tr>\n",
       "      <th>2</th>\n",
       "      <td>fort_worth_army_air_field</td>\n",
       "      <td>located_in_the_administrative_territorial_entity</td>\n",
       "      <td>nm</td>\n",
       "    </tr>\n",
       "    <tr>\n",
       "      <th>3</th>\n",
       "      <td>9_july_1991_entry</td>\n",
       "      <td>point_in_time</td>\n",
       "      <td>9_july_1991</td>\n",
       "    </tr>\n",
       "    <tr>\n",
       "      <th>4</th>\n",
       "      <td>flying_saucer</td>\n",
       "      <td>subclass_of</td>\n",
       "      <td>uap</td>\n",
       "    </tr>\n",
       "    <tr>\n",
       "      <th>...</th>\n",
       "      <td>...</td>\n",
       "      <td>...</td>\n",
       "      <td>...</td>\n",
       "    </tr>\n",
       "    <tr>\n",
       "      <th>768</th>\n",
       "      <td>renaissance_technologies_llc</td>\n",
       "      <td>headquarters_location</td>\n",
       "      <td>austin_tx</td>\n",
       "    </tr>\n",
       "    <tr>\n",
       "      <th>769</th>\n",
       "      <td>john_greenwald</td>\n",
       "      <td>employer</td>\n",
       "      <td>national_reconnaissance_office</td>\n",
       "    </tr>\n",
       "    <tr>\n",
       "      <th>770</th>\n",
       "      <td>egg</td>\n",
       "      <td>subsidiary</td>\n",
       "      <td>area_51</td>\n",
       "    </tr>\n",
       "    <tr>\n",
       "      <th>771</th>\n",
       "      <td>area_51</td>\n",
       "      <td>parent_organization</td>\n",
       "      <td>egg</td>\n",
       "    </tr>\n",
       "    <tr>\n",
       "      <th>772</th>\n",
       "      <td>bae_systems</td>\n",
       "      <td>headquarters_location</td>\n",
       "      <td>huntsville_al</td>\n",
       "    </tr>\n",
       "  </tbody>\n",
       "</table>\n",
       "<p>773 rows × 3 columns</p>\n",
       "</div>"
      ],
      "text/plain": [
       "                             head  \\\n",
       "0          roswell_army_air_field   \n",
       "1        roswell_morning_dispatch   \n",
       "2       fort_worth_army_air_field   \n",
       "3               9_july_1991_entry   \n",
       "4                   flying_saucer   \n",
       "..                            ...   \n",
       "768  renaissance_technologies_llc   \n",
       "769                john_greenwald   \n",
       "770                           egg   \n",
       "771                       area_51   \n",
       "772                   bae_systems   \n",
       "\n",
       "                                                 type  \\\n",
       "0                       place_served_by_transport_hub   \n",
       "1                                              editor   \n",
       "2    located_in_the_administrative_territorial_entity   \n",
       "3                                       point_in_time   \n",
       "4                                         subclass_of   \n",
       "..                                                ...   \n",
       "768                             headquarters_location   \n",
       "769                                          employer   \n",
       "770                                        subsidiary   \n",
       "771                               parent_organization   \n",
       "772                             headquarters_location   \n",
       "\n",
       "                               tail  \n",
       "0                        roswell_nm  \n",
       "1                 arthur_r_mcquiddy  \n",
       "2                                nm  \n",
       "3                       9_july_1991  \n",
       "4                               uap  \n",
       "..                              ...  \n",
       "768                       austin_tx  \n",
       "769  national_reconnaissance_office  \n",
       "770                         area_51  \n",
       "771                             egg  \n",
       "772                   huntsville_al  \n",
       "\n",
       "[773 rows x 3 columns]"
      ]
     },
     "execution_count": 41,
     "metadata": {},
     "output_type": "execute_result"
    }
   ],
   "source": [
    "orig_df = pd.read_csv(r'..\\data\\graph_data_final.csv')\n",
    "orig_df"
   ]
  },
  {
   "cell_type": "code",
   "execution_count": 42,
   "metadata": {},
   "outputs": [],
   "source": [
    "#original  data \n",
    "orig_df = pd.read_csv(r'..\\data\\graph_data_final.csv')\n",
    "\n",
    "nodes = pd.concat([df['head'], df['tail']]).unique()\n",
    "#edges are all the type values\n",
    "edges = df['type'].unique()\n",
    "#we need to do the same manipulations we did \n",
    "#these were the things we did\n",
    "# text = text.replace(\"\\n\", \" \")\n",
    "# .apply(lambda x: x.replace('_', ' '))\n",
    "\n",
    "#so lets keep the original and make an edited version in a new column\n",
    "#first make a dataframe of the nodes and edges\n",
    "nodes_df_original = pd.DataFrame(nodes, columns=['node'])\n",
    "edges_df_original = pd.DataFrame(edges, columns=['edge'])\n",
    "\n",
    "nodes_df_original['node_edited'] = nodes_df_original['node'].apply(lambda x: x.replace('_', ' '))\n",
    "nodes_df_original['node_edited'] = nodes_df_original['node_edited'].apply(lambda x: x.replace('\\n', ' '))"
   ]
  },
  {
   "cell_type": "code",
   "execution_count": 46,
   "metadata": {},
   "outputs": [],
   "source": [
    "#ok now join the nodes_df to the nodes_df_original\n",
    "nodes_almost_final = nodes_df.merge(nodes_df_original[['node','node_edited']], left_on='node',right_on = 'node_edited', how='left')"
   ]
  },
  {
   "cell_type": "code",
   "execution_count": 50,
   "metadata": {},
   "outputs": [],
   "source": [
    "#ok, now we need re replace the node_edited with the real_value if it exists. So basically I want it to \n",
    "nodes_almost_final.node_edited = nodes_almost_final.apply(lambda x: x['real_value'] if pd.notnull(x['real_value']) else x['node_edited'], axis=1)"
   ]
  },
  {
   "cell_type": "code",
   "execution_count": 55,
   "metadata": {},
   "outputs": [
    {
     "data": {
      "text/html": [
       "<div>\n",
       "<style scoped>\n",
       "    .dataframe tbody tr th:only-of-type {\n",
       "        vertical-align: middle;\n",
       "    }\n",
       "\n",
       "    .dataframe tbody tr th {\n",
       "        vertical-align: top;\n",
       "    }\n",
       "\n",
       "    .dataframe thead th {\n",
       "        text-align: right;\n",
       "    }\n",
       "</style>\n",
       "<table border=\"1\" class=\"dataframe\">\n",
       "  <thead>\n",
       "    <tr style=\"text-align: right;\">\n",
       "      <th></th>\n",
       "      <th>node</th>\n",
       "      <th>node_edited</th>\n",
       "      <th>type</th>\n",
       "    </tr>\n",
       "  </thead>\n",
       "  <tbody>\n",
       "    <tr>\n",
       "      <th>0</th>\n",
       "      <td>roswell_army_air_field</td>\n",
       "      <td>roswell army air field</td>\n",
       "      <td>place</td>\n",
       "    </tr>\n",
       "    <tr>\n",
       "      <th>1</th>\n",
       "      <td>us</td>\n",
       "      <td>us</td>\n",
       "      <td>place</td>\n",
       "    </tr>\n",
       "    <tr>\n",
       "      <th>2</th>\n",
       "      <td>ernst_steinhoff</td>\n",
       "      <td>ernst steinhoff</td>\n",
       "      <td>person</td>\n",
       "    </tr>\n",
       "    <tr>\n",
       "      <th>3</th>\n",
       "      <td>renaissance_technologies_llc</td>\n",
       "      <td>renaissance technologies llc</td>\n",
       "      <td>organization</td>\n",
       "    </tr>\n",
       "    <tr>\n",
       "      <th>4</th>\n",
       "      <td>roswell_nm</td>\n",
       "      <td>roswell nm</td>\n",
       "      <td>place</td>\n",
       "    </tr>\n",
       "    <tr>\n",
       "      <th>...</th>\n",
       "      <td>...</td>\n",
       "      <td>...</td>\n",
       "      <td>...</td>\n",
       "    </tr>\n",
       "    <tr>\n",
       "      <th>869</th>\n",
       "      <td>colm_kelleher</td>\n",
       "      <td>colm kelleher</td>\n",
       "      <td>person</td>\n",
       "    </tr>\n",
       "    <tr>\n",
       "      <th>870</th>\n",
       "      <td>christopher_mellon</td>\n",
       "      <td>christopher mellon</td>\n",
       "      <td>person</td>\n",
       "    </tr>\n",
       "    <tr>\n",
       "      <th>871</th>\n",
       "      <td>jb_michaels</td>\n",
       "      <td>jb michaels</td>\n",
       "      <td>person</td>\n",
       "    </tr>\n",
       "    <tr>\n",
       "      <th>872</th>\n",
       "      <td>bruce_maccabee</td>\n",
       "      <td>bruce maccabee</td>\n",
       "      <td>person</td>\n",
       "    </tr>\n",
       "    <tr>\n",
       "      <th>873</th>\n",
       "      <td>michael_mckubre</td>\n",
       "      <td>michael mckubre</td>\n",
       "      <td>person</td>\n",
       "    </tr>\n",
       "  </tbody>\n",
       "</table>\n",
       "<p>838 rows × 3 columns</p>\n",
       "</div>"
      ],
      "text/plain": [
       "                             node                   node_edited          type\n",
       "0          roswell_army_air_field        roswell army air field         place\n",
       "1                              us                            us         place\n",
       "2                 ernst_steinhoff               ernst steinhoff        person\n",
       "3    renaissance_technologies_llc  renaissance technologies llc  organization\n",
       "4                      roswell_nm                    roswell nm         place\n",
       "..                            ...                           ...           ...\n",
       "869                 colm_kelleher                 colm kelleher        person\n",
       "870            christopher_mellon            christopher mellon        person\n",
       "871                   jb_michaels                   jb michaels        person\n",
       "872                bruce_maccabee                bruce maccabee        person\n",
       "873               michael_mckubre               michael mckubre        person\n",
       "\n",
       "[838 rows x 3 columns]"
      ]
     },
     "execution_count": 55,
     "metadata": {},
     "output_type": "execute_result"
    }
   ],
   "source": [
    "#drop dupliacates based on node_edited\n",
    "nodes_final = nodes_almost_final.drop_duplicates(subset=['node_edited'])\n",
    "nodes_final = nodes_final[['node_y','node_edited','type']].rename(columns={'node_y':'node'})\n",
    "nodes_final\n"
   ]
  },
  {
   "cell_type": "code",
   "execution_count": 56,
   "metadata": {},
   "outputs": [],
   "source": [
    "import json\n",
    "\n",
    "# Initialize empty lists\n",
    "nodes_list = []\n",
    "edges_list = []\n",
    "\n",
    "# Populate nodes\n",
    "for idx, row in nodes_final.iterrows():\n",
    "    node = {\n",
    "        'id': row['node'],\n",
    "        'type': row['type'],\n",
    "        'node_edited': row['node_edited']\n",
    "    }\n",
    "    nodes_list.append(node)\n",
    "\n",
    "# Populate edges\n",
    "for idx, row in orig_df.iterrows():\n",
    "    edge = {\n",
    "        'source': row['head'],\n",
    "        'target': row['tail'],\n",
    "        'relationship_type': row['type']\n",
    "    }\n",
    "    edges_list.append(edge)\n",
    "\n",
    "# Combine into one JSON object\n",
    "graph_json = {\n",
    "    'nodes': nodes_list,\n",
    "    'edges': edges_list\n",
    "}\n",
    "\n",
    "# Write to file\n",
    "with open('graph_data.json', 'w') as f:\n",
    "    json.dump(graph_json, f)\n"
   ]
  },
  {
   "cell_type": "code",
   "execution_count": null,
   "metadata": {},
   "outputs": [],
   "source": []
  }
 ],
 "metadata": {
  "kernelspec": {
   "display_name": "ai_work",
   "language": "python",
   "name": "python3"
  },
  "language_info": {
   "codemirror_mode": {
    "name": "ipython",
    "version": 3
   },
   "file_extension": ".py",
   "mimetype": "text/x-python",
   "name": "python",
   "nbconvert_exporter": "python",
   "pygments_lexer": "ipython3",
   "version": "3.11.3"
  },
  "orig_nbformat": 4
 },
 "nbformat": 4,
 "nbformat_minor": 2
}
