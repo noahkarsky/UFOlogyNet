{
 "cells": [
  {
   "cell_type": "code",
   "execution_count": 8,
   "metadata": {},
   "outputs": [],
   "source": [
    "import pandas as pd\n"
   ]
  },
  {
   "cell_type": "code",
   "execution_count": 9,
   "metadata": {},
   "outputs": [],
   "source": [
    "#read in the markdown file at D:\\repos\\project_amanita\\data\\anon_pdf.md\n",
    "#add folder to python path\n",
    "\n",
    "file_path = r\"..\\data\\anon_pdf.md\"\n",
    "with open(file_path, 'r', encoding='utf-8') as f:\n",
    "    text = f.read()\n",
    "    f.close()"
   ]
  },
  {
   "cell_type": "code",
   "execution_count": 10,
   "metadata": {},
   "outputs": [],
   "source": [
    "import re\n",
    "from typing import List, Dict\n",
    "from urllib.parse import urlparse\n",
    "\n",
    "def parse_ufo_data(text: str) -> List[Dict]:\n",
    "    data = []\n",
    "    event_blocks = text.split('**(PUBLIC DOMAIN)** - ')\n",
    "\n",
    "    for event_block in event_blocks[1:]:\n",
    "        event = {}\n",
    "        lines = event_block.split('\\n')\n",
    "        \n",
    "        date_match = re.search(r'\\*\\*([0-9]{1,2} [A-Za-z]+ [0-9]{4}|[A-Za-z]+ [0-9]{4}|[0-9]{4})\\*\\*', lines[0])\n",
    "        event['date'] = date_match.group(1) if date_match else None\n",
    "\n",
    "        desc_start = len(event['date']) + 6 if event['date'] else 0\n",
    "        event['description'] = lines[0][desc_start:].strip()\n",
    "        \n",
    "        # Initialize sources as a list to handle multiple sources\n",
    "        event['sources'] = []\n",
    "        # Initialize comments as a list to handle multiple comments\n",
    "        event['comments'] = []\n",
    "        for line in lines[1:]:\n",
    "            if line.startswith('* [http'):\n",
    "                source_match = re.search(r'\\[([^]]*)\\]', line)\n",
    "                source = source_match.group(1) if source_match else None\n",
    "                netloc = urlparse(source).netloc if source else None\n",
    "                source_link = re.search(r'\\(([^)]+)\\)', line).group(1)\n",
    "                # Append each source as a dictionary to sources list\n",
    "                event['sources'].append({\"source\": netloc, \"source_link\": source_link})\n",
    "            elif line.startswith('>**_Note_**:'):\n",
    "                # Extract comments and split by ':'\n",
    "                comments_list = line[11:].split(':')\n",
    "                # Strip each comment and append to comments list\n",
    "                event['comments'] += [comment.strip() for comment in comments_list if comment.strip()]\n",
    "                \n",
    "        data.append(event)\n",
    "        \n",
    "    return data\n"
   ]
  },
  {
   "cell_type": "code",
   "execution_count": 11,
   "metadata": {},
   "outputs": [
    {
     "data": {
      "text/html": [
       "<div>\n",
       "<style scoped>\n",
       "    .dataframe tbody tr th:only-of-type {\n",
       "        vertical-align: middle;\n",
       "    }\n",
       "\n",
       "    .dataframe tbody tr th {\n",
       "        vertical-align: top;\n",
       "    }\n",
       "\n",
       "    .dataframe thead th {\n",
       "        text-align: right;\n",
       "    }\n",
       "</style>\n",
       "<table border=\"1\" class=\"dataframe\">\n",
       "  <thead>\n",
       "    <tr style=\"text-align: right;\">\n",
       "      <th></th>\n",
       "      <th>date</th>\n",
       "      <th>description</th>\n",
       "      <th>sources</th>\n",
       "      <th>comments</th>\n",
       "    </tr>\n",
       "  </thead>\n",
       "  <tbody>\n",
       "    <tr>\n",
       "      <th>0</th>\n",
       "      <td>8 July 1947</td>\n",
       "      <td>1st Lt. Walter Haut states in an allegedly sig...</td>\n",
       "      <td>[{'source': 'www.the-sun.com', 'source_link': ...</td>\n",
       "      <td>[]</td>\n",
       "    </tr>\n",
       "    <tr>\n",
       "      <th>1</th>\n",
       "      <td>8 July 1947</td>\n",
       "      <td>Another affidavit from Arthur R. McQuiddy, the...</td>\n",
       "      <td>[]</td>\n",
       "      <td>[]</td>\n",
       "    </tr>\n",
       "    <tr>\n",
       "      <th>2</th>\n",
       "      <td>8 July 1947</td>\n",
       "      <td>Col. Thomas J. DuBose states in a signed affid...</td>\n",
       "      <td>[]</td>\n",
       "      <td>[]</td>\n",
       "    </tr>\n",
       "    <tr>\n",
       "      <th>3</th>\n",
       "      <td>8 July 1947</td>\n",
       "      <td>A signed affidavit from 1st Lt. Robert Shirkey...</td>\n",
       "      <td>[]</td>\n",
       "      <td>[]</td>\n",
       "    </tr>\n",
       "    <tr>\n",
       "      <th>4</th>\n",
       "      <td>19 August 1947</td>\n",
       "      <td>USAF Lt. Col. George Garrett tells FBI SAC S.W...</td>\n",
       "      <td>[]</td>\n",
       "      <td>[]</td>\n",
       "    </tr>\n",
       "  </tbody>\n",
       "</table>\n",
       "</div>"
      ],
      "text/plain": [
       "             date                                        description  \\\n",
       "0     8 July 1947  1st Lt. Walter Haut states in an allegedly sig...   \n",
       "1     8 July 1947  Another affidavit from Arthur R. McQuiddy, the...   \n",
       "2     8 July 1947  Col. Thomas J. DuBose states in a signed affid...   \n",
       "3     8 July 1947  A signed affidavit from 1st Lt. Robert Shirkey...   \n",
       "4  19 August 1947  USAF Lt. Col. George Garrett tells FBI SAC S.W...   \n",
       "\n",
       "                                             sources comments  \n",
       "0  [{'source': 'www.the-sun.com', 'source_link': ...       []  \n",
       "1                                                 []       []  \n",
       "2                                                 []       []  \n",
       "3                                                 []       []  \n",
       "4                                                 []       []  "
      ]
     },
     "execution_count": 11,
     "metadata": {},
     "output_type": "execute_result"
    }
   ],
   "source": [
    "\n",
    "#lets turn this data into a dataframe\n",
    "import pandas as pd\n",
    "df = pd.DataFrame(parse_ufo_data(text))\n",
    "df.head()\n"
   ]
  },
  {
   "cell_type": "code",
   "execution_count": 12,
   "metadata": {},
   "outputs": [],
   "source": [
    "df.to_csv('../data/parsed_data.csv', index=False)"
   ]
  }
 ],
 "metadata": {
  "kernelspec": {
   "display_name": "langchain_env",
   "language": "python",
   "name": "python3"
  },
  "language_info": {
   "codemirror_mode": {
    "name": "ipython",
    "version": 3
   },
   "file_extension": ".py",
   "mimetype": "text/x-python",
   "name": "python",
   "nbconvert_exporter": "python",
   "pygments_lexer": "ipython3",
   "version": "3.10.4"
  },
  "orig_nbformat": 4
 },
 "nbformat": 4,
 "nbformat_minor": 2
}
