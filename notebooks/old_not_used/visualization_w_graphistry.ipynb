{
 "cells": [
  {
   "cell_type": "code",
   "execution_count": 1,
   "metadata": {},
   "outputs": [],
   "source": [
    "import graphistry\n",
    "from graphistry.features import ModelDict, topic_model, search_model, qa_model\n",
    "\n",
    "import requests\n",
    "import pandas as pd\n",
    "import numpy as np\n",
    "import os\n",
    "\n",
    "import warnings\n",
    "warnings.filterwarnings('ignore')\n",
    "\n",
    "pd.set_option('display.max_colwidth', None)\n",
    "\n",
    "np.random.seed(137)"
   ]
  },
  {
   "cell_type": "code",
   "execution_count": 2,
   "metadata": {},
   "outputs": [],
   "source": [
    "import getpass\n",
    "import graphistry\n",
    "graphistry.register(api=3, username='noah8', password=getpass.getpass())"
   ]
  },
  {
   "cell_type": "code",
   "execution_count": 3,
   "metadata": {},
   "outputs": [],
   "source": [
    "\n",
    "\n",
    "# make a function to import data from a json file with the above format\n",
    "import json\n",
    "def import_json_data(json_file):\n",
    "    with open(json_file) as f:\n",
    "        data = json.load(f)\n",
    "    return data\n",
    "\n",
    "data = import_json_data('../data/graph_data.json')"
   ]
  },
  {
   "cell_type": "code",
   "execution_count": 4,
   "metadata": {},
   "outputs": [],
   "source": [
    "#make this into somethign graphistry can read\n",
    "nodes = pd.DataFrame(data['nodes'])\n",
    "edges = pd.DataFrame(data['edges'])\n",
    "\n"
   ]
  },
  {
   "cell_type": "code",
   "execution_count": 8,
   "metadata": {},
   "outputs": [
    {
     "data": {
      "text/html": [
       "<div>\n",
       "<style scoped>\n",
       "    .dataframe tbody tr th:only-of-type {\n",
       "        vertical-align: middle;\n",
       "    }\n",
       "\n",
       "    .dataframe tbody tr th {\n",
       "        vertical-align: top;\n",
       "    }\n",
       "\n",
       "    .dataframe thead th {\n",
       "        text-align: right;\n",
       "    }\n",
       "</style>\n",
       "<table border=\"1\" class=\"dataframe\">\n",
       "  <thead>\n",
       "    <tr style=\"text-align: right;\">\n",
       "      <th></th>\n",
       "      <th>id</th>\n",
       "      <th>type</th>\n",
       "      <th>node_edited</th>\n",
       "    </tr>\n",
       "  </thead>\n",
       "  <tbody>\n",
       "    <tr>\n",
       "      <th>0</th>\n",
       "      <td>roswell_army_air_field</td>\n",
       "      <td>place</td>\n",
       "      <td>roswell army air field</td>\n",
       "    </tr>\n",
       "    <tr>\n",
       "      <th>1</th>\n",
       "      <td>us</td>\n",
       "      <td>place</td>\n",
       "      <td>us</td>\n",
       "    </tr>\n",
       "    <tr>\n",
       "      <th>2</th>\n",
       "      <td>ernst_steinhoff</td>\n",
       "      <td>person</td>\n",
       "      <td>ernst steinhoff</td>\n",
       "    </tr>\n",
       "    <tr>\n",
       "      <th>3</th>\n",
       "      <td>renaissance_technologies_llc</td>\n",
       "      <td>organization</td>\n",
       "      <td>renaissance technologies llc</td>\n",
       "    </tr>\n",
       "    <tr>\n",
       "      <th>4</th>\n",
       "      <td>roswell_nm</td>\n",
       "      <td>place</td>\n",
       "      <td>roswell nm</td>\n",
       "    </tr>\n",
       "    <tr>\n",
       "      <th>...</th>\n",
       "      <td>...</td>\n",
       "      <td>...</td>\n",
       "      <td>...</td>\n",
       "    </tr>\n",
       "    <tr>\n",
       "      <th>833</th>\n",
       "      <td>colm_kelleher</td>\n",
       "      <td>person</td>\n",
       "      <td>colm kelleher</td>\n",
       "    </tr>\n",
       "    <tr>\n",
       "      <th>834</th>\n",
       "      <td>christopher_mellon</td>\n",
       "      <td>person</td>\n",
       "      <td>christopher mellon</td>\n",
       "    </tr>\n",
       "    <tr>\n",
       "      <th>835</th>\n",
       "      <td>jb_michaels</td>\n",
       "      <td>person</td>\n",
       "      <td>jb michaels</td>\n",
       "    </tr>\n",
       "    <tr>\n",
       "      <th>836</th>\n",
       "      <td>bruce_maccabee</td>\n",
       "      <td>person</td>\n",
       "      <td>bruce maccabee</td>\n",
       "    </tr>\n",
       "    <tr>\n",
       "      <th>837</th>\n",
       "      <td>michael_mckubre</td>\n",
       "      <td>person</td>\n",
       "      <td>michael mckubre</td>\n",
       "    </tr>\n",
       "  </tbody>\n",
       "</table>\n",
       "<p>838 rows × 3 columns</p>\n",
       "</div>"
      ],
      "text/plain": [
       "                               id          type                   node_edited\n",
       "0          roswell_army_air_field         place        roswell army air field\n",
       "1                              us         place                            us\n",
       "2                 ernst_steinhoff        person               ernst steinhoff\n",
       "3    renaissance_technologies_llc  organization  renaissance technologies llc\n",
       "4                      roswell_nm         place                    roswell nm\n",
       "..                            ...           ...                           ...\n",
       "833                 colm_kelleher        person                 colm kelleher\n",
       "834            christopher_mellon        person            christopher mellon\n",
       "835                   jb_michaels        person                   jb michaels\n",
       "836                bruce_maccabee        person                bruce maccabee\n",
       "837               michael_mckubre        person               michael mckubre\n",
       "\n",
       "[838 rows x 3 columns]"
      ]
     },
     "execution_count": 8,
     "metadata": {},
     "output_type": "execute_result"
    }
   ],
   "source": [
    "nodes"
   ]
  },
  {
   "cell_type": "code",
   "execution_count": 9,
   "metadata": {},
   "outputs": [
    {
     "data": {
      "text/html": [
       "\n",
       "            <iframe id=\"d69e7674-a6c8-41eb-a598-3456db79e591\" src=\"https://hub.graphistry.com/graph/graph.html?dataset=1311c9479b5c4d62b1f3b5009ca0e0b6&type=arrow&viztoken=15eeb2bb-b1d7-48bb-bf88-77b4b7f636be&usertag=66b2f8d9-pygraphistry-0.29.3&splashAfter=1693453270&info=true\"\n",
       "                    allowfullscreen=\"true\" webkitallowfullscreen=\"true\" mozallowfullscreen=\"true\"\n",
       "                    oallowfullscreen=\"true\" msallowfullscreen=\"true\"\n",
       "                    style=\"width:100%; height:500px; border: 1px solid #DDD; overflow: hidden\"\n",
       "                    \n",
       "            >\n",
       "            </iframe>\n",
       "        \n",
       "            <script>\n",
       "                try {\n",
       "                  $(\"#d69e7674-a6c8-41eb-a598-3456db79e591\").bind('mousewheel', function(e) { e.preventDefault(); });\n",
       "                } catch (e) { console.error('exn catching scroll', e); }\n",
       "            </script>\n",
       "        "
      ],
      "text/plain": [
       "<IPython.core.display.HTML object>"
      ]
     },
     "execution_count": 9,
     "metadata": {},
     "output_type": "execute_result"
    }
   ],
   "source": [
    "RENDER = True # set to True to have plots generated inline, or paste the URLs into a tab to see the graphs\n",
    "g = graphistry.nodes(nodes).edges(edges).bind(source='source', destination='target', edge_title='relationship_type', node='id', point_title='node_edited',point_color='type')\n",
    "g.plot(render=RENDER)"
   ]
  },
  {
   "cell_type": "code",
   "execution_count": null,
   "metadata": {},
   "outputs": [],
   "source": []
  }
 ],
 "metadata": {
  "kernelspec": {
   "display_name": "ai_work",
   "language": "python",
   "name": "python3"
  },
  "language_info": {
   "codemirror_mode": {
    "name": "ipython",
    "version": 3
   },
   "file_extension": ".py",
   "mimetype": "text/x-python",
   "name": "python",
   "nbconvert_exporter": "python",
   "pygments_lexer": "ipython3",
   "version": "3.8.17"
  },
  "orig_nbformat": 4
 },
 "nbformat": 4,
 "nbformat_minor": 2
}
