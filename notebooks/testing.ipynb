{
 "cells": [
  {
   "cell_type": "code",
   "execution_count": 2,
   "metadata": {},
   "outputs": [],
   "source": [
    "import pandas as pd\n",
    "import streamlit\n",
    "from streamlit_agraph import agraph, Node, Edge, Config\n"
   ]
  },
  {
   "cell_type": "code",
   "execution_count": 12,
   "metadata": {},
   "outputs": [],
   "source": [
    "\n",
    "\n",
    "# make a function to import data from a json file with the above format\n",
    "import json\n",
    "def import_json_data(json_file):\n",
    "    with open(json_file) as f:\n",
    "        data = json.load(f)\n",
    "    return data\n",
    "\n",
    "data = import_json_data('../data/graph_data.json')\n",
    "\n",
    "#make this into somethign graphistry can read\n",
    "nodes = pd.DataFrame(data['nodes'])\n",
    "edges = pd.DataFrame(data['edges'])\n",
    "\n",
    "#data cleanup steps\n",
    "#correct the value 'groip' to 'group' found in the type column\n",
    "nodes['type'] = nodes['type'].str.replace('groip', 'group')\n",
    "node_color_map = {\n",
    "    'place': '#1f77b4', \n",
    "    'person': '#aec7e8', \n",
    "    'organization': '#ff7f0e', \n",
    "    'position': '#ffbb78', \n",
    "    'concept': '#2ca02c', \n",
    "    'program': '#98df8a', \n",
    "    'technology': '#d62728', \n",
    "    '': '#ff9896', \n",
    "    'group': '#9467bd', \n",
    "    'event': '#c5b0d5', \n",
    "    'publication': 's#8c564b', \n",
    "    'postion': '#c49c94', \n",
    "    'date': '#e377c2', \n",
    "    'object': '#7f7f7f'\n",
    "}\n",
    "#add color to nodes df\n",
    "nodes['color'] = nodes['type'].map(node_color_map)\n",
    "\n",
    "nodes['Node']  = nodes.apply(lambda x: Node(id=x['id'], label=x['node_edited'], size=10,shape='dot' ,color =x['color']), axis=1)\n",
    "edges['Edge'] = edges.apply(lambda x: Edge(source=x['source'], target=x['target'], label=x['relationship_type']), axis=1)\n",
    "\n",
    "nodes_list = nodes['Node'].tolist()\n",
    "edges_list = edges['Edge'].tolist()\n",
    "\n",
    "config = Config(width=750,\n",
    "                height=950,\n",
    "                directed=True, \n",
    "                physics=True, \n",
    "                hierarchical=False,\n",
    "                # **kwargs\n",
    "                )\n",
    "\n",
    "return_value = agraph(nodes=nodes_list, edges=edges_list,\n",
    "                      config=config)"
   ]
  }
 ],
 "metadata": {
  "kernelspec": {
   "display_name": "Python 3",
   "language": "python",
   "name": "python3"
  },
  "language_info": {
   "codemirror_mode": {
    "name": "ipython",
    "version": 3
   },
   "file_extension": ".py",
   "mimetype": "text/x-python",
   "name": "python",
   "nbconvert_exporter": "python",
   "pygments_lexer": "ipython3",
   "version": "3.11.2"
  },
  "orig_nbformat": 4
 },
 "nbformat": 4,
 "nbformat_minor": 2
}
